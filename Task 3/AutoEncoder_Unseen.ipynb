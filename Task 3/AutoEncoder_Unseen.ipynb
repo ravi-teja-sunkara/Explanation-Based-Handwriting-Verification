{
 "cells": [
  {
   "cell_type": "code",
   "execution_count": null,
   "metadata": {},
   "outputs": [],
   "source": [
    "from keras.models import Model\n",
    "from keras.layers import Input, Conv2D, MaxPooling2D, BatchNormalization, Activation, Reshape, UpSampling2D\n",
    "from IPython.display import SVG\n",
    "from keras.utils.vis_utils import model_to_dot\n",
    "import pydot as pyd\n",
    "from IPython.display import SVG\n",
    "import sklearn.metrics.pairwise as metrics\n",
    "\n",
    "from keras.layers import Flatten, Dense\n",
    "import os\n",
    "os.environ[\"PATH\"] += os.pathsep + 'C:/Program Files (x86)/Graphviz2.38/bin/'"
   ]
  },
  {
   "cell_type": "markdown",
   "metadata": {},
   "source": [
    "# Multilayer Fully-connected Neural Network"
   ]
  },
  {
   "cell_type": "code",
   "execution_count": null,
   "metadata": {},
   "outputs": [],
   "source": [
    "visible = Input(shape=(10,))\n",
    "hidden1 = Dense(10, activation='relu')(visible)\n",
    "hidden2 = Dense(20, activation='relu')(hidden1)\n",
    "hidden3 = Dense(10, activation='relu')(hidden2)\n",
    "output = Dense(1, activation='sigmoid')(hidden3)\n",
    "model = Model(inputs=visible, outputs=output)\n",
    "# summarize layers\n",
    "SVG(model_to_dot(model, show_layer_names=True, show_shapes=True, rankdir='TB').create(prog='dot', format='svg'))"
   ]
  },
  {
   "cell_type": "code",
   "execution_count": null,
   "metadata": {},
   "outputs": [],
   "source": [
    "visible = Input(shape=(64,64,1))\n",
    "conv1 = Conv2D(32, kernel_size=4, activation='relu')(visible)\n",
    "pool1 = MaxPooling2D(pool_size=(2, 2))(conv1)\n",
    "conv2 = Conv2D(16, kernel_size=4, activation='relu')(pool1)\n",
    "pool2 = MaxPooling2D(pool_size=(2, 2))(conv2)\n",
    "hidden1 = Dense(10, activation='relu')(pool2)\n",
    "output = Dense(1, activation='sigmoid')(hidden1)\n",
    "model = Model(inputs=visible, outputs=output)\n",
    "# summarize layers\n",
    "SVG(model_to_dot(model, show_layer_names=True, show_shapes=True, rankdir='TB').create(prog='dot', format='svg'))\n"
   ]
  },
  {
   "cell_type": "markdown",
   "metadata": {},
   "source": [
    "# Shared Input Layer"
   ]
  },
  {
   "cell_type": "code",
   "execution_count": null,
   "metadata": {},
   "outputs": [],
   "source": [
    "from keras.layers.merge import concatenate\n",
    "from keras.layers import Flatten\n",
    "# input layer\n",
    "visible = Input(shape=(64,64,1))\n",
    "# first feature extractor\n",
    "conv1 = Conv2D(32, kernel_size=4, activation='relu')(visible)\n",
    "pool1 = MaxPooling2D(pool_size=(2, 2))(conv1)\n",
    "flat1 = Flatten()(pool1)\n",
    "# second feature extractor\n",
    "conv2 = Conv2D(16, kernel_size=8, activation='relu')(visible)\n",
    "pool2 = MaxPooling2D(pool_size=(2, 2))(conv2)\n",
    "flat2 = Flatten()(pool2)\n",
    "# merge feature extractors\n",
    "merge = concatenate([flat1, flat2])\n",
    "# interpretation layer\n",
    "hidden1 = Dense(10, activation='relu')(merge)\n",
    "# prediction output\n",
    "output = Dense(1, activation='sigmoid')(hidden1)\n",
    "model = Model(inputs=visible, outputs=output)\n",
    "SVG(model_to_dot(model, show_layer_names=True, show_shapes=True, rankdir='TB').create(prog='dot', format='svg'))\n"
   ]
  },
  {
   "cell_type": "markdown",
   "metadata": {},
   "source": [
    "# Shared Feature Extraction"
   ]
  },
  {
   "cell_type": "code",
   "execution_count": null,
   "metadata": {},
   "outputs": [],
   "source": [
    "# define input\n",
    "visible = Input(shape=(100,1))\n",
    "# feature extraction\n",
    "extract1 = Dense(10)(visible)\n",
    "# first interpretation model\n",
    "interp1 = Dense(10, activation='relu')(extract1)\n",
    "# second interpretation model\n",
    "interp11 = Dense(10, activation='relu')(extract1)\n",
    "interp12 = Dense(20, activation='relu')(interp11)\n",
    "interp13 = Dense(10, activation='relu')(interp12)\n",
    "# merge interpretation\n",
    "merge = concatenate([interp1, interp13])\n",
    "# output\n",
    "output = Dense(1, activation='sigmoid')(merge)\n",
    "model = Model(inputs=visible, outputs=output)\n",
    "SVG(model_to_dot(model, show_layer_names=True, show_shapes=True, rankdir='TB').create(prog='dot', format='svg'))\n"
   ]
  },
  {
   "cell_type": "markdown",
   "metadata": {},
   "source": [
    "# Multiple Input"
   ]
  },
  {
   "cell_type": "code",
   "execution_count": null,
   "metadata": {},
   "outputs": [],
   "source": [
    "visible1 = Input(shape=(64,64,1))\n",
    "conv11 = Conv2D(32, kernel_size=4, activation='relu')(visible1)\n",
    "pool11 = MaxPooling2D(pool_size=(2, 2))(conv11)\n",
    "conv12 = Conv2D(16, kernel_size=4, activation='relu')(pool11)\n",
    "pool12 = MaxPooling2D(pool_size=(2, 2))(conv12)\n",
    "flat1 = Flatten()(pool12)\n",
    "# second input model\n",
    "visible2 = Input(shape=(32,32,3))\n",
    "conv21 = Conv2D(32, kernel_size=4, activation='relu')(visible2)\n",
    "pool21 = MaxPooling2D(pool_size=(2, 2))(conv21)\n",
    "conv22 = Conv2D(16, kernel_size=4, activation='relu')(pool21)\n",
    "pool22 = MaxPooling2D(pool_size=(2, 2))(conv22)\n",
    "flat2 = Flatten()(pool22)\n",
    "# merge input models\n",
    "merge = concatenate([flat1, flat2])\n",
    "# interpretation model\n",
    "hidden1 = Dense(10, activation='relu')(merge)\n",
    "hidden2 = Dense(10, activation='relu')(hidden1)\n",
    "output = Dense(1, activation='sigmoid')(hidden2)\n",
    "model = Model(inputs=[visible1, visible2], outputs=output)\n",
    "SVG(model_to_dot(model, show_layer_names=True, show_shapes=True, rankdir='TB').create(prog='dot', format='svg'))\n"
   ]
  },
  {
   "cell_type": "markdown",
   "metadata": {},
   "source": [
    "# Multiple Output"
   ]
  },
  {
   "cell_type": "code",
   "execution_count": null,
   "metadata": {},
   "outputs": [],
   "source": [
    "from keras.layers.recurrent import LSTM\n",
    "from keras.layers.wrappers import TimeDistributed\n",
    "# input layer\n",
    "visible = Input(shape=(100,1))\n",
    "# feature extraction\n",
    "extract = LSTM(10, return_sequences=True)(visible)\n",
    "# classification output\n",
    "class11 = LSTM(10)(extract)\n",
    "class12 = Dense(10, activation='relu')(class11)\n",
    "output1 = Dense(1, activation='sigmoid')(class12)\n",
    "# sequence output\n",
    "output2 = TimeDistributed(Dense(1, activation='linear'))(extract)\n",
    "# output\n",
    "model = Model(inputs=visible, outputs=[output1, output2])\n",
    "SVG(model_to_dot(model, show_layer_names=True, show_shapes=True, rankdir='TB').create(prog='dot', format='svg'))\n"
   ]
  },
  {
   "cell_type": "markdown",
   "metadata": {},
   "source": [
    "# Siamese"
   ]
  },
  {
   "cell_type": "code",
   "execution_count": null,
   "metadata": {
    "scrolled": true
   },
   "outputs": [],
   "source": [
    "imDim = 64\n",
    "input_shape  = (imDim,imDim,1)\n",
    "inp_img = Input(shape = (imDim,imDim,1), name = 'ImageInput')\n",
    "model = inp_img\n",
    "\n",
    "#     model = Input(shape=(imDim,imDim,1))\n",
    "#     model.add(Input(shape = (imDim,imDim,1), name = 'FeatureNet_ImageInput'))\n",
    "model = Conv2D(32,kernel_size=(3, 3),activation='relu',input_shape=input_shape,padding='valid')(model)\n",
    "#     model.add(Conv2D(64, (3, 3), activation='relu', padding='same'))\n",
    "model = MaxPooling2D((2,2), padding='valid')(model)\n",
    "model = Conv2D(64, (3, 3), activation='relu',padding='valid')(model)\n",
    "#     model.add(Conv2D(32, (3, 3), activation='relu',padding='same'))\n",
    "model = MaxPooling2D((2,2),padding='valid')(model)\n",
    "#     model.add(Conv2D(16, (3, 3), activation='relu',padding='same'))\n",
    "model = Conv2D(128, (3, 3), activation='relu',padding='valid')(model)\n",
    "model = MaxPooling2D((2,2),padding='valid')(model)\n",
    "#     model.add(Conv2D(1, (3, 3), activation='relu',padding='same'))\n",
    "#     model.add(Conv2D(2, (3, 3), activation='relu',padding='same'))\n",
    "\n",
    "model = Conv2D(256, (1, 1), activation='relu',padding='valid')(model)\n",
    "model = MaxPooling2D((2,2),padding='valid')(model)\n",
    "\n",
    "model = Conv2D(64, (1, 1), activation='relu',padding='valid')(model)\n",
    "# model = MaxPooling2D((2,2),padding='valid')(model)\n",
    "model = Flatten()(model)\n",
    "\n",
    "# img_in = np.array((-1,imDim,imDim,1), dtype='float32')\n",
    "# img_in = tf.placeholder(shape=(imDim,imDim,1), dtype='float32')\n",
    "\n",
    "feat = Model(inputs=[inp_img], outputs=[model],name = 'Feat_Model')\n",
    "feat.summary()\n",
    "\n",
    "\n",
    "# In[27]:\n",
    "\n",
    "left_img = Input(shape = (imDim,imDim,1), name = 'left_img')\n",
    "right_img = Input(shape = (imDim,imDim,1), name = 'right_img')\n",
    "\n",
    "\n",
    "# In[28]:\n",
    "\n",
    "left_feats = feat(left_img)\n",
    "right_feats = feat(right_img)\n",
    "\n",
    "\n",
    "# In[35]:\n",
    "\n",
    "from keras.layers import concatenate\n",
    "import random\n",
    "\n",
    "\n",
    "# In[36]:\n",
    "\n",
    "merged_feats = concatenate([left_feats, right_feats], name = 'concat_feats')\n",
    "merged_feats = Dense(1024, activation = 'linear')(merged_feats)\n",
    "merged_feats = BatchNormalization()(merged_feats)\n",
    "merged_feats = Activation('relu')(merged_feats)\n",
    "merged_feats = Dense(4, activation = 'linear')(merged_feats)\n",
    "merged_feats = BatchNormalization()(merged_feats)\n",
    "merged_feats = Activation('relu')(merged_feats)\n",
    "merged_feats = Dense(1, activation = 'sigmoid')(merged_feats)\n",
    "similarity_model = Model(inputs = [left_img, right_img], outputs = [merged_feats], name = 'Similarity_Model')\n",
    "similarity_model.summary()"
   ]
  },
  {
   "cell_type": "code",
   "execution_count": null,
   "metadata": {
    "scrolled": true
   },
   "outputs": [],
   "source": [
    "display(SVG(model_to_dot(feat, show_layer_names=True, show_shapes=True, rankdir='TB').create(prog='dot', format='svg')))\n"
   ]
  },
  {
   "cell_type": "code",
   "execution_count": null,
   "metadata": {
    "scrolled": true
   },
   "outputs": [],
   "source": [
    "\n",
    "display(SVG(model_to_dot(similarity_model, show_layer_names=True, show_shapes=True, rankdir='TB').create(prog='dot', format='svg')))\n"
   ]
  },
  {
   "cell_type": "markdown",
   "metadata": {},
   "source": [
    "# Autoencoder"
   ]
  },
  {
   "cell_type": "code",
   "execution_count": null,
   "metadata": {
    "scrolled": true
   },
   "outputs": [],
   "source": [
    "input_img = Input(shape=(64, 64, 1))  # adapt this if using `channels_first` image data format\n",
    "# x = CoordinateChannel2D()(input_img)\n",
    "x = Conv2D(16, (3, 3), activation='relu', padding='same')(input_img)\n",
    "x = MaxPooling2D((2, 2), padding='same')(x)\n",
    "# x = CoordinateChannel2D()(x)\n",
    "x = Conv2D(8, (3, 3), activation='relu', padding='same')(x)\n",
    "x = MaxPooling2D((2, 2), padding='same')(x)\n",
    "# x = CoordinateChannel2D()(x)\n",
    "x = Conv2D(8, (3, 3), activation='relu', padding='same')(x)\n",
    "encoded = MaxPooling2D((2, 2), padding='same')(x)\n",
    "encoded = Flatten()(x)\n",
    "encoded = Dense(8*8*8, activation='relu', name='latent')(encoded)\n",
    "# model = Model(input_img,encoded)\n",
    "# print(model.summary())\n",
    "# at this point the representation is (4, 4, 8) i.e. 128-dimensional\n",
    "r = Reshape(target_shape=(8,8,8))(encoded)\n",
    "x = Conv2D(8, (3, 3), activation='relu', padding='same')(r)\n",
    "x = UpSampling2D((2, 2))(x)\n",
    "x = Conv2D(8, (3, 3), activation='relu', padding='same')(x)\n",
    "x = UpSampling2D((2, 2))(x)\n",
    "x = Conv2D(16, (3, 3), activation='relu', padding='same')(x)\n",
    "x = UpSampling2D((2, 2))(x)\n",
    "decoded = Conv2D(1, (3, 3), activation='sigmoid', padding='same',name='output')(x)\n",
    "\n",
    "autoencoder = Model(input_img, decoded)\n",
    "autoencoder.compile(optimizer='adadelta', loss='binary_crossentropy')\n",
    "autoencoder.summary()"
   ]
  },
  {
   "cell_type": "code",
   "execution_count": null,
   "metadata": {
    "scrolled": true
   },
   "outputs": [],
   "source": [
    "\n",
    "display(SVG(model_to_dot(autoencoder, show_layer_names=True, show_shapes=True, rankdir='TB').create(prog='dot', format='svg')))\n"
   ]
  },
  {
   "cell_type": "code",
   "execution_count": null,
   "metadata": {
    "scrolled": true
   },
   "outputs": [],
   "source": [
    "encoder = Model(autoencoder.inputs, autoencoder.get_layer('latent').output)\n",
    "encoder.summary()"
   ]
  },
  {
   "cell_type": "markdown",
   "metadata": {},
   "source": [
    "# What to do with latent features?\n",
    "- Use latent features to explore euclidean, cosine distances"
   ]
  },
  {
   "cell_type": "code",
   "execution_count": null,
   "metadata": {},
   "outputs": [],
   "source": [
    "import numpy as np\n",
    "import pandas as pd\n",
    "import matplotlib.pyplot as plt\n",
    "\n",
    "from keras.preprocessing.image import ImageDataGenerator"
   ]
  },
  {
   "cell_type": "code",
   "execution_count": null,
   "metadata": {},
   "outputs": [],
   "source": [
    "# this is the augmentation configuration for training\n",
    "train_datagen = ImageDataGenerator(rescale = 1./255,\n",
    "                                   shear_range = 0.2,\n",
    "                                   rotation_range = 20,\n",
    "                                   width_shift_range = 0.2,\n",
    "                                   height_shift_range = 0.2)\n",
    "\n",
    "# this is the configuratin for testing/validation (only rescaling because we don't want to make changes to our new data,\n",
    "# we just want to predict from these images)\n",
    "test_datagen = ImageDataGenerator(rescale = 1./255)"
   ]
  },
  {
   "cell_type": "code",
   "execution_count": null,
   "metadata": {},
   "outputs": [],
   "source": [
    "train_generator = train_datagen.flow_from_directory('./unseen-dataset/TrainingSet',\n",
    "                                                   target_size = (64,64),\n",
    "                                                   color_mode = 'grayscale',\n",
    "                                                   class_mode = None,\n",
    "                                                   batch_size = 64)\n",
    "\n",
    "test_generator = test_datagen.flow_from_directory('./unseen-dataset/ValidationSet', \n",
    "                                                 target_size = (64, 64),\n",
    "                                                 color_mode = 'grayscale',\n",
    "                                                 class_mode = None,\n",
    "                                                 batch_size = 952,\n",
    "                                                 shuffle = 'FALSE')"
   ]
  },
  {
   "cell_type": "code",
   "execution_count": null,
   "metadata": {},
   "outputs": [],
   "source": [
    "def fixed_generator(generator):      \n",
    "    for batch in generator:\n",
    "        yield (batch, batch)"
   ]
  },
  {
   "cell_type": "code",
   "execution_count": null,
   "metadata": {
    "scrolled": true
   },
   "outputs": [],
   "source": [
    "hist=autoencoder.fit_generator(fixed_generator(train_generator), steps_per_epoch = 1, epochs=10,\n",
    "                               validation_data = fixed_generator(test_generator), validation_steps = 1)"
   ]
  },
  {
   "cell_type": "code",
   "execution_count": null,
   "metadata": {},
   "outputs": [],
   "source": [
    "df_hist = pd.DataFrame(hist.history)\n",
    "df_hist.plot( subplots=True, figsize=(15,15))"
   ]
  },
  {
   "cell_type": "markdown",
   "metadata": {},
   "source": [
    "## Cosine Similarity for Validation Dataset"
   ]
  },
  {
   "cell_type": "code",
   "execution_count": null,
   "metadata": {
    "scrolled": true
   },
   "outputs": [],
   "source": [
    "precision=0\n",
    "recall=0\n",
    "image_names, w_ids = [], []\n",
    "\n",
    "# index and filenames\n",
    "index = next(test_generator.index_generator)\n",
    "images = test_generator._get_batches_of_transformed_samples(index)\n",
    "# images.shape\n",
    "\n",
    "for i in range(len(index)):\n",
    "#     print(os.path.basename(test_generator.filenames[index[i]]))\n",
    "    image_names.append(os.path.basename(test_generator.filenames[index[i]]))\n",
    "    w_ids.append(os.path.basename(test_generator.filenames[index[i]]).split('_')[0][0:4]) #w_ids are here\n",
    "    \n",
    "image_names_ids = pd.DataFrame(list(zip(image_names, w_ids)))\n",
    "latent_pred = encoder.predict(images)\n",
    "\n",
    "cos_dist = pd.DataFrame(metrics.cosine_similarity(latent_pred, Y=None, dense_output=True), index=w_ids, columns=w_ids)"
   ]
  },
  {
   "cell_type": "code",
   "execution_count": null,
   "metadata": {},
   "outputs": [],
   "source": [
    "thresholds = [0.6,0.8,0.9, 0.95]\n",
    "for th in thresholds:\n",
    "#         th = 0.6\n",
    "    t_p=0\n",
    "    f_p=0\n",
    "    f_n=0\n",
    "    t_n=0\n",
    "    for i in range(cos_dist.shape[0]):\n",
    "        for j in range(cos_dist.shape[0]):\n",
    "            if(cos_dist.index[i]==cos_dist.columns.values[j] and cos_dist.iloc[i,j]>th):\n",
    "                t_p+=1\n",
    "            elif(cos_dist.index[i]!=cos_dist.columns.values[j] and cos_dist.iloc[i,j]<th):\n",
    "                t_n+=1\n",
    "            elif(cos_dist.index[i]!=cos_dist.columns.values[j] and cos_dist.iloc[i,j]>th):\n",
    "                f_p+=1\n",
    "            else:\n",
    "                f_n+=1\n",
    "#         print(f_p)\n",
    "    precision = t_p / (t_p + f_p)\n",
    "    recall = t_p / (t_p + f_n)  \n",
    "    print('precision for threshold of '+ str(th) + ' is: '+ str(precision))\n",
    "    print('recall for threshold of ' + str(th) + ' is: ' + str(recall))\n",
    "    total=np.sum((t_p,t_n,f_p,f_n))\n",
    "    accuracy=(t_p+t_n)/total\n",
    "    print('accuracy',accuracy)"
   ]
  },
  {
   "cell_type": "code",
   "execution_count": null,
   "metadata": {},
   "outputs": [],
   "source": [
    "from sklearn.metrics.pairwise import cosine_similarity\n",
    "from tqdm import tqdm_notebook\n",
    "\n",
    "cos_dist_out = cosine_similarity(list(df_data['latent'].values))\n",
    "\n",
    "recalls = []\n",
    "precisions = []\n",
    "threshs = []\n",
    "for i in range(2,10):\n",
    "    \n",
    "    queried_count, idx_count, tp, tn, fp, fn = 0,0,0,0,0,0\n",
    "    cos_thresh = i/10.0\n",
    "    print('---------cos_thresh:',cos_thresh,'-----------')\n",
    "    data_result = []\n",
    "    fp_list = []\n",
    "    fn_list = []\n",
    "    r_counter = 0\n",
    "    stop_at = 10\n",
    "    prev_query = ''\n",
    "    prev_given = ''\n",
    "    given_count = 0\n",
    "    threshs.append(cos_thresh)\n",
    "    # total = cos_dist_out.shape[0]\n",
    "    for row in tqdm_notebook(cos_dist_out):\n",
    "        c_counter = 0\n",
    "        given_idx = df_data.iloc[r_counter]['identity']\n",
    "        given_img = df_data.iloc[r_counter]['imagename']\n",
    "        for col in row:\n",
    "            queried_idx = df_data.iloc[c_counter]['identity']\n",
    "            queried_img = df_data.iloc[c_counter]['imagename']\n",
    "            if int(given_idx) == int(queried_idx) and cos_dist_out[r_counter][c_counter]>cos_thresh:\n",
    "                tp += 1\n",
    "            if int(given_idx) != int(queried_idx) and cos_dist_out[r_counter][c_counter]<cos_thresh:\n",
    "                tn += 1\n",
    "            if int(given_idx) != int(queried_idx) and cos_dist_out[r_counter][c_counter]>cos_thresh:\n",
    "                fp += 1\n",
    "                fp_list.append(os.path.join(queried_idx,queried_img))\n",
    "            if int(given_idx) == int(queried_idx) and cos_dist_out[r_counter][c_counter]<cos_thresh:\n",
    "                fn += 1\n",
    "                fn_list.append(os.path.join(queried_idx,queried_img))\n",
    "            if int(given_idx) == int(queried_idx):\n",
    "                idx_count += 1\n",
    "    #             print('--i--',idx_count,'--i--')\n",
    "    #             print(given_idx,queried_idx)\n",
    "            if prev_query != queried_idx:\n",
    "    #             print('--q--',queried_count,'--q--')\n",
    "                queried_count += 1\n",
    "            c_counter += 1\n",
    "            prev_query = queried_idx\n",
    "#             if queried_count == stop_at:\n",
    "#                 break\n",
    "        precision = tp/(fp+tp)\n",
    "        recall = tp/(tp+fn)\n",
    "        f1 = 2*(precision*recall)/(precision+recall)\n",
    "        total = np.sum((tp,tn,fp,fn))\n",
    "        accuracy = (tp+tn)/total\n",
    "        data_result.append([given_idx,given_img, idx_count, tp, tn, fp, fn,precision,recall,f1,accuracy, total, fp_list, fn_list])\n",
    "        if prev_given != given_idx:\n",
    "    #         print('----',given_count,'-----')\n",
    "            given_count+=1\n",
    "        r_counter += 1\n",
    "        prev_given = given_idx\n",
    "        queried_count, idx_count, tp, tn, fp, fn = 0, 0, 0, 0, 0, 0\n",
    "        fp_list = []\n",
    "        fn_list = []\n",
    "#         if given_count == stop_at:\n",
    "#             break\n",
    "    df_cos_dist_out = pd.DataFrame(data_result, columns=['identity','imagename','total_images_identity','TP','TN','FP','FN','precision','recall','f1','accuracy','total_images', 'FP_List','FN_List'])\n",
    "    df_cos_dist_out=df_cos_dist_out.sort_values(by='identity',ascending=True).reset_index().drop(columns=['index'])\n",
    "#     df_cos_dist_out.head()\n",
    "    # print(df_cos_dist_out.keys())\n",
    "    total = df_cos_dist_out.shape[0]\n",
    "    total_images_identity = df_cos_dist_out['total_images_identity']\n",
    "    tps = df_cos_dist_out['TP'].sum()\n",
    "    fps = df_cos_dist_out['FP'].sum()\n",
    "    tns = df_cos_dist_out['TN'].sum()\n",
    "    fns = df_cos_dist_out['FN'].sum()\n",
    "    print(tps,fps,tns,fns)\n",
    "    precision = tps/(fps+tps)\n",
    "    recall = tps/(tps+fns)\n",
    "    recalls.append(recall)\n",
    "    precisions.append(precision)\n",
    "    f1 = 2*(precision*recall)/(precision+recall)\n",
    "    print('precision:',precision,'\\nrecall:',recall,'\\nf1:',f1)\n",
    "    acc = df_cos_dist_out['accuracy'].mean()\n",
    "    print('Intra Writer Accuracy (Type 1):',np.mean(df_cos_dist_out['TP']/total_images_identity))\n",
    "    print('Inter Writer Accuracy (Type 2)::',tns/total/total)\n",
    "    print('acc:',acc)"
   ]
  },
  {
   "cell_type": "code",
   "execution_count": null,
   "metadata": {},
   "outputs": [],
   "source": []
  }
 ],
 "metadata": {
  "kernelspec": {
   "display_name": "Python 3",
   "language": "python",
   "name": "python3"
  },
  "language_info": {
   "codemirror_mode": {
    "name": "ipython",
    "version": 3
   },
   "file_extension": ".py",
   "mimetype": "text/x-python",
   "name": "python",
   "nbconvert_exporter": "python",
   "pygments_lexer": "ipython3",
   "version": "3.6.5"
  }
 },
 "nbformat": 4,
 "nbformat_minor": 2
}
