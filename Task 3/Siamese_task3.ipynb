{
 "cells": [
  {
   "cell_type": "code",
   "execution_count": null,
   "metadata": {},
   "outputs": [],
   "source": [
    "from __future__ import division, print_function\n",
    "from keras.models import Model\n",
    "from keras.layers import Input, Conv2D, MaxPooling2D, BatchNormalization, Activation, Reshape, UpSampling2D\n",
    "from IPython.display import SVG\n",
    "from keras.utils.vis_utils import model_to_dot\n",
    "from keras.layers import Activation, Dense\n",
    "import numpy as np\n",
    "import pandas as pd\n",
    "import cv2 as cv\n",
    "import itertools\n",
    "\n",
    "from itertools import combinations\n",
    "\n",
    "import os\n",
    "os.environ[\"PATH\"] += os.pathsep + 'C:/Program Files (x86)/Graphviz2.38/bin/'"
   ]
  },
  {
   "cell_type": "markdown",
   "metadata": {},
   "source": [
    "# Multilayer Fully-connected Neural Network"
   ]
  },
  {
   "cell_type": "code",
   "execution_count": null,
   "metadata": {},
   "outputs": [],
   "source": [
    "visible = Input(shape=(10,))\n",
    "hidden1 = Dense(10, activation='relu')(visible)\n",
    "hidden2 = Dense(20, activation='relu')(hidden1)\n",
    "hidden3 = Dense(10, activation='relu')(hidden2)\n",
    "output = Dense(1, activation='sigmoid')(hidden3)\n",
    "model = Model(inputs=visible, outputs=output)\n",
    "# summarize layers\n",
    "SVG(model_to_dot(model, show_layer_names=True, show_shapes=True, rankdir='TB').create(prog='dot', format='svg'))"
   ]
  },
  {
   "cell_type": "code",
   "execution_count": null,
   "metadata": {},
   "outputs": [],
   "source": [
    "visible = Input(shape=(64,64,1))\n",
    "conv1 = Conv2D(32, kernel_size=4, activation='relu')(visible)\n",
    "pool1 = MaxPooling2D(pool_size=(2, 2))(conv1)\n",
    "conv2 = Conv2D(16, kernel_size=4, activation='relu')(pool1)\n",
    "pool2 = MaxPooling2D(pool_size=(2, 2))(conv2)\n",
    "hidden1 = Dense(10, activation='relu')(pool2)\n",
    "output = Dense(1, activation='sigmoid')(hidden1)\n",
    "model = Model(inputs=visible, outputs=output)\n",
    "# summarize layers\n",
    "SVG(model_to_dot(model, show_layer_names=True, show_shapes=True, rankdir='TB').create(prog='dot', format='svg'))\n"
   ]
  },
  {
   "cell_type": "markdown",
   "metadata": {},
   "source": [
    "# Shared Input Layer"
   ]
  },
  {
   "cell_type": "code",
   "execution_count": null,
   "metadata": {},
   "outputs": [],
   "source": [
    "from keras.layers.merge import concatenate\n",
    "from keras.layers import Flatten\n",
    "# input layer\n",
    "visible = Input(shape=(64,64,1))\n",
    "# first feature extractor\n",
    "conv1 = Conv2D(32, kernel_size=4, activation='relu')(visible)\n",
    "pool1 = MaxPooling2D(pool_size=(2, 2))(conv1)\n",
    "flat1 = Flatten()(pool1)\n",
    "# second feature extractor\n",
    "conv2 = Conv2D(16, kernel_size=8, activation='relu')(visible)\n",
    "pool2 = MaxPooling2D(pool_size=(2, 2))(conv2)\n",
    "flat2 = Flatten()(pool2)\n",
    "# merge feature extractors\n",
    "merge = concatenate([flat1, flat2])\n",
    "# interpretation layer\n",
    "hidden1 = Dense(10, activation='relu')(merge)\n",
    "# prediction output\n",
    "output = Dense(1, activation='sigmoid')(hidden1)\n",
    "model = Model(inputs=visible, outputs=output)\n",
    "SVG(model_to_dot(model, show_layer_names=True, show_shapes=True, rankdir='TB').create(prog='dot', format='svg'))\n"
   ]
  },
  {
   "cell_type": "markdown",
   "metadata": {},
   "source": [
    "# Shared Feature Extraction"
   ]
  },
  {
   "cell_type": "code",
   "execution_count": null,
   "metadata": {},
   "outputs": [],
   "source": [
    "# define input\n",
    "visible = Input(shape=(100,1))\n",
    "# feature extraction\n",
    "extract1 = Dense(10)(visible)\n",
    "# first interpretation model\n",
    "interp1 = Dense(10, activation='relu')(extract1)\n",
    "# second interpretation model\n",
    "interp11 = Dense(10, activation='relu')(extract1)\n",
    "interp12 = Dense(20, activation='relu')(interp11)\n",
    "interp13 = Dense(10, activation='relu')(interp12)\n",
    "# merge interpretation\n",
    "merge = concatenate([interp1, interp13])\n",
    "# output\n",
    "output = Dense(1, activation='sigmoid')(merge)\n",
    "model = Model(inputs=visible, outputs=output)\n",
    "SVG(model_to_dot(model, show_layer_names=True, show_shapes=True, rankdir='TB').create(prog='dot', format='svg'))\n"
   ]
  },
  {
   "cell_type": "markdown",
   "metadata": {},
   "source": [
    "# Multiple Input"
   ]
  },
  {
   "cell_type": "code",
   "execution_count": null,
   "metadata": {},
   "outputs": [],
   "source": [
    "visible1 = Input(shape=(64,64,1))\n",
    "conv11 = Conv2D(32, kernel_size=4, activation='relu')(visible1)\n",
    "pool11 = MaxPooling2D(pool_size=(2, 2))(conv11)\n",
    "conv12 = Conv2D(16, kernel_size=4, activation='relu')(pool11)\n",
    "pool12 = MaxPooling2D(pool_size=(2, 2))(conv12)\n",
    "flat1 = Flatten()(pool12)\n",
    "# second input model\n",
    "visible2 = Input(shape=(32,32,3))\n",
    "conv21 = Conv2D(32, kernel_size=4, activation='relu')(visible2)\n",
    "pool21 = MaxPooling2D(pool_size=(2, 2))(conv21)\n",
    "conv22 = Conv2D(16, kernel_size=4, activation='relu')(pool21)\n",
    "pool22 = MaxPooling2D(pool_size=(2, 2))(conv22)\n",
    "flat2 = Flatten()(pool22)\n",
    "# merge input models\n",
    "merge = concatenate([flat1, flat2])\n",
    "# interpretation model\n",
    "hidden1 = Dense(10, activation='relu')(merge)\n",
    "hidden2 = Dense(10, activation='relu')(hidden1)\n",
    "output = Dense(1, activation='sigmoid')(hidden2)\n",
    "model = Model(inputs=[visible1, visible2], outputs=output)\n",
    "SVG(model_to_dot(model, show_layer_names=True, show_shapes=True, rankdir='TB').create(prog='dot', format='svg'))\n"
   ]
  },
  {
   "cell_type": "markdown",
   "metadata": {},
   "source": [
    "# Multiple Output"
   ]
  },
  {
   "cell_type": "code",
   "execution_count": null,
   "metadata": {},
   "outputs": [],
   "source": [
    "from keras.layers.recurrent import LSTM\n",
    "from keras.layers.wrappers import TimeDistributed\n",
    "# input layer\n",
    "visible = Input(shape=(100,1))\n",
    "# feature extraction\n",
    "extract = LSTM(10, return_sequences=True)(visible)\n",
    "# classification output\n",
    "class11 = LSTM(10)(extract)\n",
    "class12 = Dense(10, activation='relu')(class11)\n",
    "output1 = Dense(1, activation='sigmoid')(class12)\n",
    "# sequence output\n",
    "output2 = TimeDistributed(Dense(1, activation='linear'))(extract)\n",
    "# output\n",
    "model = Model(inputs=visible, outputs=[output1, output2])\n",
    "SVG(model_to_dot(model, show_layer_names=True, show_shapes=True, rankdir='TB').create(prog='dot', format='svg'))\n"
   ]
  },
  {
   "cell_type": "markdown",
   "metadata": {},
   "source": [
    "# Siamese"
   ]
  },
  {
   "cell_type": "code",
   "execution_count": null,
   "metadata": {
    "scrolled": true
   },
   "outputs": [],
   "source": [
    "imDim = 64\n",
    "input_shape  = (imDim,imDim,1)\n",
    "inp_img = Input(shape = (imDim,imDim,1), name = 'ImageInput')\n",
    "model = inp_img\n",
    "\n",
    "#     model = Input(shape=(imDim,imDim,1))\n",
    "#     model.add(Input(shape = (imDim,imDim,1), name = 'FeatureNet_ImageInput'))\n",
    "model = Conv2D(32,kernel_size=(3, 3),activation='relu',input_shape=input_shape,padding='valid')(model)\n",
    "#     model.add(Conv2D(64, (3, 3), activation='relu', padding='same'))\n",
    "model = MaxPooling2D((2,2), padding='valid')(model)\n",
    "model = Conv2D(64, (3, 3), activation='relu',padding='valid')(model)\n",
    "#     model.add(Conv2D(32, (3, 3), activation='relu',padding='same'))\n",
    "model = MaxPooling2D((2,2),padding='valid')(model)\n",
    "#     model.add(Conv2D(16, (3, 3), activation='relu',padding='same'))\n",
    "model = Conv2D(128, (3, 3), activation='relu',padding='valid')(model)\n",
    "model = MaxPooling2D((2,2),padding='valid')(model)\n",
    "#     model.add(Conv2D(1, (3, 3), activation='relu',padding='same'))\n",
    "#     model.add(Conv2D(2, (3, 3), activation='relu',padding='same'))\n",
    "\n",
    "model = Conv2D(256, (1, 1), activation='relu',padding='valid')(model)\n",
    "model = MaxPooling2D((2,2),padding='valid')(model)\n",
    "\n",
    "model = Conv2D(64, (1, 1), activation='relu',padding='valid')(model)\n",
    "# model = MaxPooling2D((2,2),padding='valid')(model)\n",
    "model = Flatten()(model)\n",
    "\n",
    "# img_in = np.array((-1,imDim,imDim,1), dtype='float32')\n",
    "# img_in = tf.placeholder(shape=(imDim,imDim,1), dtype='float32')\n",
    "\n",
    "feat = Model(inputs=[inp_img], outputs=[model],name = 'Feat_Model')\n",
    "feat.summary()\n",
    "\n",
    "\n",
    "# In[27]:\n",
    "\n",
    "left_img = Input(shape = (imDim,imDim,1), name = 'left_img')\n",
    "right_img = Input(shape = (imDim,imDim,1), name = 'right_img')\n",
    "\n",
    "\n",
    "# In[28]:\n",
    "\n",
    "left_feats = feat(left_img)\n",
    "right_feats = feat(right_img)\n",
    "\n",
    "\n",
    "# In[35]:\n",
    "\n",
    "from keras.layers import concatenate\n",
    "import random\n",
    "\n",
    "\n",
    "# In[36]:\n",
    "\n",
    "merged_feats = concatenate([left_feats, right_feats], name = 'concat_feats')\n",
    "merged_feats = Dense(1024, activation = 'linear')(merged_feats)\n",
    "merged_feats = BatchNormalization()(merged_feats)\n",
    "merged_feats = Activation('relu')(merged_feats)\n",
    "merged_feats = Dense(4, activation = 'linear')(merged_feats)\n",
    "merged_feats = BatchNormalization()(merged_feats)\n",
    "merged_feats = Activation('relu')(merged_feats)\n",
    "merged_feats = Dense(1, activation = 'sigmoid')(merged_feats)\n",
    "similarity_model = Model(inputs = [left_img, right_img], outputs = [merged_feats], name = 'Similarity_Model')\n",
    "similarity_model.summary()\n",
    "\n",
    "similarity_model.compile('RMSprop','binary_crossentropy',metrics=['accuracy'])"
   ]
  },
  {
   "cell_type": "code",
   "execution_count": null,
   "metadata": {},
   "outputs": [],
   "source": [
    "import numpy as np\n",
    "import pandas as pd\n",
    "import matplotlib.pyplot as plt\n",
    "\n",
    "from keras.preprocessing.image import ImageDataGenerator"
   ]
  },
  {
   "cell_type": "code",
   "execution_count": null,
   "metadata": {},
   "outputs": [],
   "source": [
    "# this is the augmentation configuration for training\n",
    "train_datagen = ImageDataGenerator(rescale = 1./255,\n",
    "                                   shear_range = 0.2,\n",
    "                                   rotation_range = 20,\n",
    "                                   width_shift_range = 0.2,\n",
    "                                   height_shift_range = 0.2)\n",
    "\n",
    "# this is the configuratin for testing/validation (only rescaling because we don't want to make changes to our new data,\n",
    "# we just want to predict from these images)\n",
    "test_datagen = ImageDataGenerator(rescale = 1./255)"
   ]
  },
  {
   "cell_type": "code",
   "execution_count": null,
   "metadata": {},
   "outputs": [],
   "source": [
    "def generate_generator_multiple(generator,dir1, dir2, batch_size, img_height,img_width):\n",
    "    genX1 = generator.flow_from_directory(dir1,\n",
    "                                          target_size = (img_height,img_width),\n",
    "                                          color_mode = 'grayscale',\n",
    "                                          class_mode = None,\n",
    "                                          batch_size = batch_size,\n",
    "                                          shuffle=False, \n",
    "                                          seed=7)\n",
    "    \n",
    "    genX2 = generator.flow_from_directory(dir2,\n",
    "                                          target_size = (img_height,img_width),\n",
    "                                          color_mode = 'grayscale',\n",
    "                                          class_mode = None,\n",
    "                                          batch_size = batch_size,\n",
    "                                          shuffle=False, \n",
    "                                          seed=7)\n",
    "    \n",
    "# #     print(len(genX1.filenames[batch_]))\n",
    "#     labels = np.zeros(batch_size)\n",
    "#     for i in range(batch_size):\n",
    "#         if genX1.filenames[i] == genX2.filenames[i]:\n",
    "#             labels[i] = 1\n",
    "#         else:\n",
    "#             labels[i] = 0\n",
    "#     print(labels)            \n",
    "    \n",
    "#     while True:\n",
    "#         X1i = genX1.next()\n",
    "#         X2i = genX2.next()\n",
    "# #         print(X2i.shape)\n",
    "#         yield [X1i, X2i], np.zeros(32)   #Yield both images and their mutual label\n",
    "    \n",
    "    while True:\n",
    "        labels = np.zeros(len(train_generator.next()) * len(train_generator.next()))\n",
    "        for i in range(len(train_generator.next())):\n",
    "            for j in range(len(train_generator.next())):\n",
    "                \n",
    "                if (os.path.basename(genX1.filenames[i]).split('_')[0][0:4]) == (os.path.basename(genX2.filenames[j]).split('_')[0][0:4]):\n",
    "                    labels[c] = 1\n",
    "                else:\n",
    "                    labels[c] = 0\n",
    "                output[c] = [genX1.next()[i], genX2.next()[j]], labels[i]\n",
    "                c+=1\n",
    "        yield output\n",
    "            \n",
    "\n",
    "train_generator = generate_generator_multiple(generator = train_datagen,\n",
    "                                             dir1 = './seen-dataset/TrainingSet',\n",
    "                                             dir2 = './seen-dataset/TrainingSet', \n",
    "                                             batch_size = 32,\n",
    "                                             img_height = 64,\n",
    "                                             img_width = 64)\n",
    "\n",
    "test_generator = generate_generator_multiple(generator = test_datagen,\n",
    "                                             dir1 = './seen-dataset/ValidationSet',\n",
    "                                             dir2 = './seen-dataset/ValidationSet',\n",
    "                                             batch_size = 32,\n",
    "                                             img_height = 64, \n",
    "                                             img_width = 64)"
   ]
  },
  {
   "cell_type": "code",
   "execution_count": null,
   "metadata": {},
   "outputs": [],
   "source": [
    "history = similarity_model.fit_generator(train_generator, \n",
    "                                         steps_per_epoch = 1,\n",
    "                                         epochs = 1, \n",
    "                                         validation_data = test_generator,\n",
    "                                         validation_steps = 1,\n",
    "                                         shuffle = False)"
   ]
  },
  {
   "cell_type": "code",
   "execution_count": null,
   "metadata": {},
   "outputs": [],
   "source": [
    "history = similarity_model.fit_generator(train_generator, \n",
    "                                         steps_per_epoch = 114389/32,\n",
    "                                         epochs = 1, \n",
    "                                         validation_data = test_generator,\n",
    "                                         validation_steps = 906/32,\n",
    "                                         shuffle = False)"
   ]
  },
  {
   "cell_type": "markdown",
   "metadata": {},
   "source": [
    "## Unseen Dataset"
   ]
  },
  {
   "cell_type": "code",
   "execution_count": null,
   "metadata": {},
   "outputs": [],
   "source": [
    "writer_pairs_unseen=pd.read_csv(\"./unseen-dataset/dataset_unseen_training_siamese.csv\")\n",
    "writer_pairs_unseen.head()"
   ]
  },
  {
   "cell_type": "code",
   "execution_count": null,
   "metadata": {},
   "outputs": [],
   "source": [
    "image_dir=os.listdir(\"./unseen-dataset/TrainingSet\")\n",
    "img_values = []\n",
    "path = \"./unseen-dataset/TrainingSet\"\n",
    "for file in os.listdir(path):\n",
    "    ext = os.path.splitext(file)[1]\n",
    "    var = cv.imread(os.path.join(path,file),0)\n",
    "    var_new = 255-var\n",
    "    img_values.append(np.array(var_new).reshape(64,64,1))\n",
    "\n",
    "df=pd.DataFrame(columns= ['image_id','values'])\n",
    "df['image_id']= image_dir\n",
    "df['values']= img_values\n",
    "\n",
    "df1= pd.merge(writer_pairs_unseen, df, left_on='left' , right_on='image_id',how='inner')\n",
    "df2= pd.merge(df1,df, left_on='right', right_on='image_id')\n",
    "data =df2.df(frac=1).reset_index(drop=True)\n",
    "data=data.drop(['Unnamed: 0','image_id_x','image_id_y'],axis =1)\n",
    "print(data)"
   ]
  },
  {
   "cell_type": "code",
   "execution_count": null,
   "metadata": {},
   "outputs": [],
   "source": [
    "data=data.iloc[:120000,:]\n",
    "\n",
    "t = np.split(data, 30)\n",
    "for i in range(len(t)//2):\n",
    "    img_1 = list(t[i]['values_x'])\n",
    "    img_2 = list(t[i]['values_y'])\n",
    "    y = t[i]['label']\n",
    "    resultant=[img_1,img_2]\n",
    "    similarity_model.fit(resultant,y,validation_split=0.1,batch_size=100,epochs=1)"
   ]
  },
  {
   "cell_type": "markdown",
   "metadata": {},
   "source": [
    "#### Unseen Validataon"
   ]
  },
  {
   "cell_type": "code",
   "execution_count": null,
   "metadata": {},
   "outputs": [],
   "source": [
    "writer_pairs_useen_val=pd.read_csv(\"./unseen-dataset/dataset_unseen_validation_siamese.csv\")\n",
    "writer_pairs_useen_val.head()"
   ]
  },
  {
   "cell_type": "code",
   "execution_count": null,
   "metadata": {},
   "outputs": [],
   "source": [
    "image_dir=os.listdir(\"./unseen-dataset/ValidationSet\")\n",
    "img_values = []\n",
    "path = \"./unseen-dataset/ValidationSet\"\n",
    "for file in os.listdir(path):\n",
    "    ext = os.path.splitext(file)[1]\n",
    "    var = cv.imread(os.path.join(path,file),0)\n",
    "    var_new = 255-var\n",
    "    img_values.append(np.array(var_new).reshape(64,64,1))\n",
    "\n",
    "df=pd.DataFrame(columns= ['image_id','values'])\n",
    "df['image_id']= image_dir\n",
    "df['values']= img_values\n",
    "\n",
    "df1= pd.merge(pairs_seen, df, left_on='left' , right_on='image_id',how='inner')\n",
    "df2= pd.merge(df1,df, left_on='right', right_on='image_id')\n",
    "data=df2.df(frac=1).reset_index(drop=True)\n",
    "data=data.drop(['Unnamed: 0','image_id_x','image_id_y'],axis =1)"
   ]
  },
  {
   "cell_type": "code",
   "execution_count": null,
   "metadata": {},
   "outputs": [],
   "source": [
    "y_data= data['label']\n",
    "data= data.drop(columns=['left','right','label'])\n",
    "print(data.columns)\n",
    "img_1 = list(data['values_x'])\n",
    "img_2 = list(data['values_y'])\n",
    "resultant=[img_1,img_2]\n",
    "score=similarity_model.evaluate(resultant,y_data)\n",
    "print(\"\\nBinary Crossentropy %s: %.2f%%\" % (similarity_model.metrics_names[0], score[0]*100))\n",
    "print(\"\\n%s: %.2f%%\" % (similarity_model.metrics_names[1], score[1]*100))"
   ]
  },
  {
   "cell_type": "markdown",
   "metadata": {},
   "source": [
    "## Seen Dataset"
   ]
  },
  {
   "cell_type": "code",
   "execution_count": null,
   "metadata": {},
   "outputs": [],
   "source": [
    "writer_pairs_seen=pd.read_csv(\"./seen-dataset/dataset_seen_training_siamese.csv\")\n",
    "writer_pairs_seen.head()"
   ]
  },
  {
   "cell_type": "code",
   "execution_count": null,
   "metadata": {},
   "outputs": [],
   "source": [
    "image_dir=os.listdir(\"./seen-dataset/TrainingSet\")\n",
    "img_values = []\n",
    "path = \"./seen-dataset/TrainingSet\"\n",
    "for file in os.listdir(path):\n",
    "    ext = os.path.splitext(file)[1]\n",
    "    var = cv.imread(os.path.join(path,file),0)\n",
    "    var_new = 255-var\n",
    "    img_values.append(np.array(var_new).reshape(64,64,1))\n",
    "\n",
    "df=pd.DataFrame(columns= ['image_id','values'])\n",
    "df['image_id']= image_dir\n",
    "df['values']= img_values\n",
    "\n",
    "df1= pd.merge(writer_pairs_seen, df, left_on='left' , right_on='image_id',how='inner')\n",
    "df2= pd.merge(df1,df, left_on='right', right_on='image_id')\n",
    "data=df2.df(frac=1).reset_index(drop=True)\n",
    "data=data.drop(['Unnamed: 0','image_id_x','image_id_y'],axis =1)\n",
    "print(data)"
   ]
  },
  {
   "cell_type": "code",
   "execution_count": null,
   "metadata": {},
   "outputs": [],
   "source": [
    "t = np.split(data, 30)\n",
    "for i in range(len(t)//2):\n",
    "    t1 = list(t[i]['values_x'])\n",
    "    t2 = list(t[i]['values_y'])\n",
    "    y = t[i]['label']\n",
    "    final = [t1,t2]\n",
    "    similarity_model.fit(final,y,validation_split=0.1,batch_size=100,epochs=1)"
   ]
  },
  {
   "cell_type": "markdown",
   "metadata": {},
   "source": [
    "#### Seen Validaton"
   ]
  },
  {
   "cell_type": "code",
   "execution_count": null,
   "metadata": {},
   "outputs": [],
   "source": [
    "# Validation Dataset\n",
    "pairs_seen=pd.read_csv(\"./seen-dataset/dataset_seen_validation_siamese.csv\")\n",
    "pairs_seen.shape"
   ]
  },
  {
   "cell_type": "code",
   "execution_count": null,
   "metadata": {},
   "outputs": [],
   "source": [
    "image_dir=os.listdir(\"./seen-dataset/ValidationSet\")\n",
    "img_values = []\n",
    "path = \"./seen-dataset/ValidationSet\"\n",
    "for file in os.listdir(path):\n",
    "    ext = os.path.splitext(file)[1]\n",
    "    var = cv.imread(os.path.join(path,file),0)\n",
    "    var_new = 255-var\n",
    "    img_values.append(np.array(var_new).reshape(64,64,1))\n",
    "\n",
    "df = pd.DataFrame(columns= ['image_id','values'])\n",
    "df['image_id']= image_dir\n",
    "df['values']= img_values\n",
    "\n",
    "df1 = pd.merge(pairs_seen, df, left_on='left' , right_on='image_id',how='inner')\n",
    "df2 = pd.merge(df1,df, left_on='right', right_on='image_id')\n",
    "data = df2.df(frac=1).reset_index(drop=True)\n",
    "data = final.drop(['Unnamed: 0','image_id_x','image_id_y'],axis =1)"
   ]
  },
  {
   "cell_type": "code",
   "execution_count": null,
   "metadata": {},
   "outputs": [],
   "source": [
    "y_data= data['label']\n",
    "data= data.drop(columns=['left','right','label'])\n",
    "print(data.columns)\n",
    "img_1 = list(data['values_x'])\n",
    "img_2 = list(data['values_y'])\n",
    "resultant=[img_1,img_2]\n",
    "score=similarity_model.evaluate(resultant,y_data)\n",
    "print(\"\\nBinary Crossentropy %s: %.2f%%\" % (similarity_model.metrics_names[0], score[0]*100))\n",
    "print(\"\\n%s: %.2f%%\" % (similarity_model.metrics_names[1], score[1]*100))"
   ]
  },
  {
   "cell_type": "code",
   "execution_count": null,
   "metadata": {},
   "outputs": [],
   "source": [
    "from keras.preprocessing.image import ImageDataGenerator\n",
    "######## Keras Data Generator ##################\n",
    "datagen = ImageDataGenerator(featurewise_center=True,\n",
    "    featurewise_std_normalization=True,\n",
    "    rotation_range=20,\n",
    "    width_shift_range=0.2,\n",
    "    height_shift_range=0.2,\n",
    "    horizontal_flip=True)\n",
    "datagen.fit(x,y)"
   ]
  },
  {
   "cell_type": "markdown",
   "metadata": {},
   "source": [
    "## Shuffled Dataset"
   ]
  },
  {
   "cell_type": "code",
   "execution_count": null,
   "metadata": {},
   "outputs": [],
   "source": [
    "writer_pairs_shuffled = pd.read_csv(\"./shuffled-dataset/dataset_shuffled_training_siamese.csv\")\n",
    "writer_pairs_shuffled.head()"
   ]
  },
  {
   "cell_type": "code",
   "execution_count": null,
   "metadata": {},
   "outputs": [],
   "source": [
    "image_dir=os.listdir(\"./shuffled-dataset/TrainingSet\")\n",
    "img_values = []\n",
    "path = \"./shuffled-dataset/TrainingSet\"\n",
    "\n",
    "for file in os.listdir(path):\n",
    "    ext = os.path.splitext(file)[1]\n",
    "    var = cv.imread(os.path.join(path,file),0)\n",
    "    var_new = 255-var\n",
    "    img_values.append(np.array(var_new).reshape(64,64,1))\n",
    "\n",
    "df=pd.DataFrame(columns= ['image_id','values'])\n",
    "df['image_id']= image_dir\n",
    "df['values']= img_values\n",
    "df\n",
    "\n",
    "\n",
    "df1= pd.merge(writer_pairs_shuffled, df, left_on='left' , right_on='image_id',how='inner')\n",
    "df2= pd.merge(df1,df, left_on='right', right_on='image_id')\n",
    "data=df2.df(frac=1).reset_index(drop=True)\n",
    "data=data.drop(['Unnamed: 0','image_id_x','image_id_y'],axis =1)\n",
    "print(data)"
   ]
  },
  {
   "cell_type": "code",
   "execution_count": null,
   "metadata": {},
   "outputs": [],
   "source": [
    "data=data.iloc[:102000,:]\n",
    "\n",
    "t = np.split(data, 30)\n",
    "for i in range(len(t)//2):\n",
    "    img_1 = list(t[i]['values_x'])\n",
    "    img_2 = list(t[i]['values_y'])\n",
    "    y = t[i]['label']\n",
    "    resultant=[img_1,img_2]\n",
    "    similarity_model.fit(resultant,y,validation_split=0.1,batch_size=100,epochs=1)"
   ]
  },
  {
   "cell_type": "markdown",
   "metadata": {},
   "source": [
    "#### Shuffled validation"
   ]
  },
  {
   "cell_type": "code",
   "execution_count": null,
   "metadata": {},
   "outputs": [],
   "source": [
    "writer_pairs_shuffled_val=pd.read_csv(\"./shuffled-dataset/dataset_shuffled_validation_siamese.csv\")\n",
    "writer_pairs_shuffled_val.head()"
   ]
  },
  {
   "cell_type": "code",
   "execution_count": null,
   "metadata": {},
   "outputs": [],
   "source": [
    "image_dir=os.listdir(\"./shuffled-dataset/ValidationSet\")\n",
    "img_values = []\n",
    "path = \"./shuffled-dataset/ValidationSet\"\n",
    "for file in os.listdir(path):\n",
    "    ext = os.path.splitext(file)[1]\n",
    "    var = cv.imread(os.path.join(path,file),0)\n",
    "    var_new = 255-var\n",
    "    img_values.append(np.array(var_new).reshape(64,64,1))\n",
    "\n",
    "df=pd.DataFrame(columns= ['image_id','values'])\n",
    "df['image_id']= image_dir\n",
    "df['values']= img_values\n",
    "\n",
    "df1= pd.merge(writer_pairs_shuffled_val, df, left_on='left' , right_on='image_id',how='inner')\n",
    "df2= pd.merge(df1,df, left_on='right', right_on='image_id')\n",
    "data=df2.df(frac=1).reset_index(drop=True)\n",
    "data=data.drop(['Unnamed: 0','image_id_x','image_id_y'],axis =1)"
   ]
  },
  {
   "cell_type": "code",
   "execution_count": null,
   "metadata": {},
   "outputs": [],
   "source": [
    "y_data= data['label']\n",
    "data= data.drop(columns=['left','right','label'])\n",
    "print(data.columns)\n",
    "img_1 = list(data['values_x'])\n",
    "img_2 = list(data['values_y'])\n",
    "resultant=[img_1,img_2]\n",
    "score=similarity_model.evaluate(resultant,y_data)\n",
    "print(\"\\nBinary Crossentropy %s: %.2f%%\" % (similarity_model.metrics_names[0], score[0]*100))\n",
    "print(\"\\n%s: %.2f%%\" % (similarity_model.metrics_names[1], score[1]*100))"
   ]
  },
  {
   "cell_type": "code",
   "execution_count": null,
   "metadata": {},
   "outputs": [],
   "source": []
  }
 ],
 "metadata": {
  "kernelspec": {
   "display_name": "Python 3",
   "language": "python",
   "name": "python3"
  },
  "language_info": {
   "codemirror_mode": {
    "name": "ipython",
    "version": 3
   },
   "file_extension": ".py",
   "mimetype": "text/x-python",
   "name": "python",
   "nbconvert_exporter": "python",
   "pygments_lexer": "ipython3",
   "version": "3.6.5"
  }
 },
 "nbformat": 4,
 "nbformat_minor": 2
}
