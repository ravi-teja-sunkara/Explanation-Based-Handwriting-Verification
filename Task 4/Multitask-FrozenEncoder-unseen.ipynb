{
 "cells": [
  {
   "cell_type": "code",
   "execution_count": null,
   "metadata": {
    "colab": {
     "base_uri": "https://localhost:8080/",
     "height": 34
    },
    "colab_type": "code",
    "executionInfo": {
     "elapsed": 3005,
     "status": "ok",
     "timestamp": 1554731592167,
     "user": {
      "displayName": "Ravi Teja Sunkara",
      "photoUrl": "https://lh5.googleusercontent.com/-_Ty_1SdXeJM/AAAAAAAAAAI/AAAAAAAAFhs/Yk8GsEJamvY/s64/photo.jpg",
      "userId": "17788242209305320991"
     },
     "user_tz": 240
    },
    "id": "1WHKCkg3Mi0p",
    "outputId": "94af4b4c-4bb7-4b06-e3d8-6d67b2d842ec"
   },
   "outputs": [],
   "source": [
    "import keras\n",
    "import pandas as pd\n",
    "import os\n",
    "os.environ[\"CUDA_VISIBLE_DEVICES\"] = \"0\"\n",
    "import numpy as np\n",
    "import matplotlib.pyplot as plt\n",
    "import cv2\n",
    "%matplotlib inline\n",
    "from keras.callbacks import ModelCheckpoint, EarlyStopping\n",
    "# %reload_ext mermaid\n",
    "# import IPython\n",
    "# IPython.load_ipython_extensions([\"nb-mermaid/nb-mermaid\"]);"
   ]
  },
  {
   "cell_type": "code",
   "execution_count": null,
   "metadata": {
    "colab": {},
    "colab_type": "code",
    "id": "Vo_IhWd9Mi2T"
   },
   "outputs": [],
   "source": [
    "import tensorflow  as tf\n",
    "from keras.models import Sequential, Model\n",
    "from keras.layers import Conv2D, MaxPool2D, Dropout,UpSampling2D, Dense, MaxPooling2D, BatchNormalization, Input, Flatten, Lambda\n",
    "from IPython.display import SVG\n",
    "from keras.utils.vis_utils import model_to_dot\n",
    "from keras.optimizers import Adadelta, SGD, Adam\n",
    "from keras.utils import to_categorical\n",
    "import keras.backend as K"
   ]
  },
  {
   "cell_type": "code",
   "execution_count": null,
   "metadata": {
    "colab": {},
    "colab_type": "code",
    "id": "rCIcdsjfMi2Z"
   },
   "outputs": [],
   "source": [
    "tf_config = tf.ConfigProto(allow_soft_placement=False)\n",
    "tf_config.gpu_options.allow_growth = True\n",
    "s = tf.Session(config=tf_config)\n",
    "K.set_session(s)"
   ]
  },
  {
   "cell_type": "code",
   "execution_count": null,
   "metadata": {
    "colab": {
     "base_uri": "https://localhost:8080/",
     "height": 249
    },
    "colab_type": "code",
    "executionInfo": {
     "elapsed": 1543,
     "status": "ok",
     "timestamp": 1554731846697,
     "user": {
      "displayName": "Ravi Teja Sunkara",
      "photoUrl": "https://lh5.googleusercontent.com/-_Ty_1SdXeJM/AAAAAAAAAAI/AAAAAAAAFhs/Yk8GsEJamvY/s64/photo.jpg",
      "userId": "17788242209305320991"
     },
     "user_tz": 240
    },
    "id": "PV6QOoJKMi2e",
    "outputId": "71bfcc9d-c542-427e-8a87-5e48f3c149bd"
   },
   "outputs": [],
   "source": [
    "csv_data = pd.read_csv('./15features.csv')\n",
    "display(csv_data.head()), display(csv_data.shape)\n",
    "train_path = './unseen-dataset/TrainingSet/data/'\n",
    "train_images = (train_path)\n",
    "\n",
    "val_path = './unseen-dataset/ValidationSet/images/'\n",
    "val_images = (val_path)\n",
    "len(train_images)+len(val_images)"
   ]
  },
  {
   "cell_type": "code",
   "execution_count": null,
   "metadata": {
    "colab": {
     "base_uri": "https://localhost:8080/",
     "height": 676
    },
    "colab_type": "code",
    "executionInfo": {
     "elapsed": 2271,
     "status": "ok",
     "timestamp": 1554731850240,
     "user": {
      "displayName": "Ravi Teja Sunkara",
      "photoUrl": "https://lh5.googleusercontent.com/-_Ty_1SdXeJM/AAAAAAAAAAI/AAAAAAAAFhs/Yk8GsEJamvY/s64/photo.jpg",
      "userId": "17788242209305320991"
     },
     "user_tz": 240
    },
    "id": "BW41QgjlMi3c",
    "outputId": "8c623643-c5bd-4abb-a6fb-5e9409b179cc",
    "scrolled": true
   },
   "outputs": [],
   "source": [
    "dataset_columns = csv_data.columns\n",
    "csv_data['imagename'] = csv_data['imagename'].astype('str')\n",
    "display(csv_data.head(20))\n",
    "csv_data.shape"
   ]
  },
  {
   "cell_type": "code",
   "execution_count": null,
   "metadata": {
    "colab": {},
    "colab_type": "code",
    "id": "Fb6Vd4wqMi3p",
    "scrolled": true
   },
   "outputs": [],
   "source": [
    "# train_csv_data =  csv_data[:700]\n",
    "# val_csv_data =  csv_data[700:]\n",
    "# train_csv_data.shape, val_csv_data.shape"
   ]
  },
  {
   "cell_type": "code",
   "execution_count": null,
   "metadata": {
    "colab": {
     "base_uri": "https://localhost:8080/",
     "height": 34
    },
    "colab_type": "code",
    "executionInfo": {
     "elapsed": 1136,
     "status": "ok",
     "timestamp": 1554731855271,
     "user": {
      "displayName": "Ravi Teja Sunkara",
      "photoUrl": "https://lh5.googleusercontent.com/-_Ty_1SdXeJM/AAAAAAAAAAI/AAAAAAAAFhs/Yk8GsEJamvY/s64/photo.jpg",
      "userId": "17788242209305320991"
     },
     "user_tz": 240
    },
    "id": "3aQQtPDMMi3u",
    "outputId": "413a47a4-f5ec-4b84-d098-8a2b45e745a2"
   },
   "outputs": [],
   "source": [
    "f = []\n",
    "for col in dataset_columns[1:]:\n",
    "    f.append(csv_data[col].unique().shape[0])\n",
    "f,len(f)"
   ]
  },
  {
   "cell_type": "code",
   "execution_count": null,
   "metadata": {
    "colab": {
     "base_uri": "https://localhost:8080/",
     "height": 87
    },
    "colab_type": "code",
    "executionInfo": {
     "elapsed": 1590,
     "status": "ok",
     "timestamp": 1554731858096,
     "user": {
      "displayName": "Ravi Teja Sunkara",
      "photoUrl": "https://lh5.googleusercontent.com/-_Ty_1SdXeJM/AAAAAAAAAAI/AAAAAAAAFhs/Yk8GsEJamvY/s64/photo.jpg",
      "userId": "17788242209305320991"
     },
     "user_tz": 240
    },
    "id": "FzLYASwkMi39",
    "outputId": "608bf16d-d654-454a-9c2a-5d062c5d844b"
   },
   "outputs": [],
   "source": [
    "input_img = Input(shape=(64, 64, 1))  # adapt this if using `channels_first` image data format\n",
    "\n",
    "x = Conv2D(16, (3, 3), activation='relu', padding='same')(input_img)\n",
    "x = MaxPooling2D((2, 2), padding='same')(x)\n",
    "x = Conv2D(32, (3, 3), activation='relu', padding='same')(x)\n",
    "x = MaxPooling2D((2, 2), padding='same')(x)\n",
    "x = Conv2D(64, (3, 3), activation='relu', padding='same')(x)\n",
    "x = MaxPooling2D((2, 2), padding='same')(x)\n",
    "x = Conv2D(128, (3, 3), activation='relu', padding='same')(x)\n",
    "x = MaxPooling2D((2, 2), padding='same')(x)\n",
    "x = Conv2D(256, (3, 3), activation='relu', padding='same')(x)\n",
    "x = MaxPooling2D((2, 2), padding='same')(x)\n",
    "x = Conv2D(512, (3, 3), activation='relu', padding='same')(x)\n",
    "encoded = MaxPooling2D((2, 2), padding='same', name='encoded')(x)\n",
    "# encoded = GlobalAveragePooling2D()(x)\n",
    "\n",
    "# encoder = Model(input_img, encoded)\n",
    "# encoder.summary()\n",
    "# print(encoded.shape)\n",
    "# encoded = Flatten()(x)\n",
    "# encoded = Dense(8*8*8)(encoded)\n",
    "# # model = Model(input_img,encoded)\n",
    "# # print(model.summary())\n",
    "# # at this point the representation is (4, 4, 8) i.e. 128-dimensional\n",
    "# r = Reshape(target_shape=(8,8,8))(encoded)\n",
    "x = Conv2D(512, (3, 3), activation='relu', padding='same')(encoded)\n",
    "x = UpSampling2D((2, 2))(x)\n",
    "x = Conv2D(256, (3, 3), activation='relu', padding='same')(x)\n",
    "x = UpSampling2D((2, 2))(x)\n",
    "x = Conv2D(128, (3, 3), activation='relu', padding='same')(x)\n",
    "x = UpSampling2D((2, 2))(x)\n",
    "x = Conv2D(64, (3, 3), activation='relu', padding='same')(x)\n",
    "x = UpSampling2D((2, 2))(x)\n",
    "x = Conv2D(32, (3, 3), activation='relu', padding='same')(x)\n",
    "x = UpSampling2D((2, 2))(x)\n",
    "x = Conv2D(16, (3, 3), activation='relu', padding='same')(x)\n",
    "x = UpSampling2D((2, 2))(x)\n",
    "decoded = Conv2D(1, (3, 3), activation='sigmoid', padding='same',name='output')(x)\n",
    "\n",
    "autoencoder = Model(input_img, decoded)\n",
    "# autoencoder.load_weights('weights/simple_ae_maxpool_Unseen_weights_v1.h5')"
   ]
  },
  {
   "cell_type": "code",
   "execution_count": null,
   "metadata": {
    "colab": {
     "base_uri": "https://localhost:8080/",
     "height": 571
    },
    "colab_type": "code",
    "executionInfo": {
     "elapsed": 2986,
     "status": "ok",
     "timestamp": 1554731862274,
     "user": {
      "displayName": "Ravi Teja Sunkara",
      "photoUrl": "https://lh5.googleusercontent.com/-_Ty_1SdXeJM/AAAAAAAAAAI/AAAAAAAAFhs/Yk8GsEJamvY/s64/photo.jpg",
      "userId": "17788242209305320991"
     },
     "user_tz": 240
    },
    "id": "YD0teAVHMi4D",
    "outputId": "58ea31f0-136a-47af-dede-aca465e7502c"
   },
   "outputs": [],
   "source": [
    "encoder = Model(autoencoder.input,autoencoder.get_layer('encoded').output)\n",
    "encoder.summary()\n",
    "for layer in encoder.layers:\n",
    "    layer.trainable = False"
   ]
  },
  {
   "cell_type": "code",
   "execution_count": null,
   "metadata": {
    "colab": {
     "base_uri": "https://localhost:8080/",
     "height": 2083
    },
    "colab_type": "code",
    "executionInfo": {
     "elapsed": 1657,
     "status": "ok",
     "timestamp": 1554731865820,
     "user": {
      "displayName": "Ravi Teja Sunkara",
      "photoUrl": "https://lh5.googleusercontent.com/-_Ty_1SdXeJM/AAAAAAAAAAI/AAAAAAAAFhs/Yk8GsEJamvY/s64/photo.jpg",
      "userId": "17788242209305320991"
     },
     "user_tz": 240
    },
    "id": "eHuRM6ADMi57",
    "outputId": "109653cb-be19-40cd-d60f-1e571c8e04f9",
    "scrolled": true
   },
   "outputs": [],
   "source": [
    "\n",
    "# # model = Sequential()\n",
    "# input_layer = Input((64,64,1))\n",
    "# model = BatchNormalization()(input_layer)\n",
    "\n",
    "# model = Conv2D(activation='relu',filters=32, kernel_size=(32,32), padding='same')(model)\n",
    "# model = Conv2D(activation='relu',filters=64, kernel_size=(32,32), strides=(1,1), padding='same')(model)\n",
    "# model = MaxPool2D((2,2))(model)\n",
    "# model = Dropout(0.25)(model)\n",
    "\n",
    "# model = Conv2D(activation='relu',filters=128, kernel_size=(16,16), padding='same')(model)\n",
    "# model = Conv2D(activation='relu',filters=256, kernel_size=(16,16), strides=(1,1), padding='same')(model)\n",
    "# model = MaxPool2D((2,2))(model)\n",
    "# model = Dropout(0.25)(model)\n",
    "\n",
    "# model = Conv2D(activation='relu',filters=128, kernel_size=(8,8), padding='same')(model)\n",
    "# model = Conv2D(activation='relu',filters=256, kernel_size=(8,8), strides=(1,1), padding='same')(model)\n",
    "# model = MaxPool2D((2,2))(model)\n",
    "# model = Dropout(0.25)(model)\n",
    "# # model = Flatten()(model)\n",
    "\n",
    "# dense_layer = Dense(512, activation='relu')(model)\n",
    "# dense_layer = Dropout(0.5)(dense_layer)\n",
    "dense_layer = encoder.get_layer('encoded').output\n",
    "out_dense_layer=[]\n",
    "for i in range(1,len(f)+1):\n",
    "    out_dense_layer.append(Dense(f[i-1] , activation='softmax', name = 'out_feature_'+str(i))(Dense(128 , activation='relu', name = 'dense_layer_'+str(i))(Flatten()((dense_layer)))))\n",
    "\n",
    "human_features = Model(inputs=encoder.input, outputs=out_dense_layer)\n",
    "human_features.summary()"
   ]
  },
  {
   "cell_type": "code",
   "execution_count": null,
   "metadata": {
    "colab": {
     "base_uri": "https://localhost:8080/",
     "height": 1774
    },
    "colab_type": "code",
    "executionInfo": {
     "elapsed": 2050,
     "status": "ok",
     "timestamp": 1554731869510,
     "user": {
      "displayName": "Ravi Teja Sunkara",
      "photoUrl": "https://lh5.googleusercontent.com/-_Ty_1SdXeJM/AAAAAAAAAAI/AAAAAAAAFhs/Yk8GsEJamvY/s64/photo.jpg",
      "userId": "17788242209305320991"
     },
     "user_tz": 240
    },
    "id": "CLR-i1IAMi6E",
    "outputId": "c3e5a194-1d35-41a5-eda1-c0c8cb60c725",
    "scrolled": true
   },
   "outputs": [],
   "source": [
    "SVG(model_to_dot(human_features, show_layer_names=True, show_shapes=True).create(prog='dot', format='svg'))"
   ]
  },
  {
   "cell_type": "code",
   "execution_count": null,
   "metadata": {
    "colab": {
     "base_uri": "https://localhost:8080/",
     "height": 34
    },
    "colab_type": "code",
    "executionInfo": {
     "elapsed": 2511,
     "status": "ok",
     "timestamp": 1554731873753,
     "user": {
      "displayName": "Ravi Teja Sunkara",
      "photoUrl": "https://lh5.googleusercontent.com/-_Ty_1SdXeJM/AAAAAAAAAAI/AAAAAAAAFhs/Yk8GsEJamvY/s64/photo.jpg",
      "userId": "17788242209305320991"
     },
     "user_tz": 240
    },
    "id": "F-Ez1qhQMi6M",
    "outputId": "14131d8e-9bf7-44e9-d0b0-79c29982c50e"
   },
   "outputs": [],
   "source": [
    "feature_lengths = {}\n",
    "for col in dataset_columns[1:]:\n",
    "    feature_lengths[col] = len(csv_data[col].unique())\n",
    "feature_lengths = list(feature_lengths.values())\n",
    "feature_lengths"
   ]
  },
  {
   "cell_type": "code",
   "execution_count": null,
   "metadata": {
    "colab": {},
    "colab_type": "code",
    "id": "qYw4naKQMi6T",
    "scrolled": true
   },
   "outputs": [],
   "source": [
    "# df_data[df_data['f8']==2]"
   ]
  },
  {
   "cell_type": "code",
   "execution_count": null,
   "metadata": {
    "colab": {},
    "colab_type": "code",
    "id": "B6JdvDtyMi8A"
   },
   "outputs": [],
   "source": [
    "# im = images[images['image'].str.match('1229b')]\n",
    "# im.iloc[0]['image']"
   ]
  },
  {
   "cell_type": "code",
   "execution_count": null,
   "metadata": {
    "colab": {},
    "colab_type": "code",
    "id": "gWMpELTzMi8J"
   },
   "outputs": [],
   "source": [
    "# csv_data[csv_data['ImageId'].str.match('1302c')]"
   ]
  },
  {
   "cell_type": "code",
   "execution_count": null,
   "metadata": {
    "colab": {},
    "colab_type": "code",
    "id": "QNIEGgMoMi8c"
   },
   "outputs": [],
   "source": [
    "\n",
    "def datagen(batch_size,image_path,list_of_writers, vshift = (-64,64) ,vis=False):\n",
    "    counter = 0\n",
    "    w_ids,ids,x,y,imagenames, feature_list = [],[],[],[],[],[]\n",
    "    while True:\n",
    "#         counter = 0\n",
    "        # for writer in unique_writers:\n",
    "        #     print(identitycounter*100/stop_at, end='\\r')\n",
    "        \n",
    "        writer_index = np.random.randint(0,len(list_of_writers))\n",
    "        \n",
    "#         for writer_index in writer_indexes:\n",
    "#             class_vectors = []\n",
    "#             features = None\n",
    "        imagename = list_of_writers[writer_index]\n",
    "#             print('-->',csv_data['imagename'][0],imagename)\n",
    "#             display(csv_data[csv_data['imagename']==imagename].values[0][1:])\n",
    "        features = csv_data[csv_data['imagename']==imagename].values\n",
    "        if len(features)==0:\n",
    "#             print('no features', imagename)\n",
    "            continue\n",
    "        features = features[0][1:]-1\n",
    "#             print(features)\n",
    "#             print(writer)\n",
    "#             writer_samples = list(images[images['image'].str.match(writer)]['image'])\n",
    "#             print('writer:',writer,', writer_samples:',writer_samples)\n",
    "#             if len(writer_samples) == 0:\n",
    "#                 continue\n",
    "#             writer_sample_index = np.random.randint(0,len(writer_samples))\n",
    "\n",
    "#             #     unique_writers_count[writer] = len(writer_samples)\n",
    "# #             print('writer_sample_index:',writer_sample_index)\n",
    "#             csv_writer = writer_samples[writer_sample_index][:5]\n",
    "\n",
    "\n",
    "        loaded_image = cv2.imread(os.path.join(image_path,imagename),0)\n",
    "        rand = np.random.randint(vshift[0],vshift[1])\n",
    "        loaded_image_shifted=np.roll(axis=0,a=loaded_image,shift=rand)\n",
    "\n",
    "        x.append(255.0-loaded_image_shifted.reshape((64,64,1)))\n",
    "        y.append(255.0-loaded_image.reshape((64,64,1)))\n",
    "        w_ids.append(imagename[:4])\n",
    "        imagenames.append(imagename)\n",
    "        ids.append(writer_index)\n",
    "        feature_list.append(features)\n",
    "#         print(imagename)\n",
    "        counter+=1\n",
    "#         print('counter:', counter, end='\\r')\n",
    "        if counter == batch_size:\n",
    "            counter=0\n",
    "            feature_list = np.array(feature_list)\n",
    "            feature_list = feature_list.transpose()\n",
    "            out_cat_features = []\n",
    "            for i in range(len(feature_list)):\n",
    "#                 print(feature_list[1])\n",
    "                out_cat_features.append(to_categorical(feature_list[i],num_classes=feature_lengths[i]))\n",
    "            if vis== True:\n",
    "                yield np.array(x)/255.0,[np.array(w_ids),np.array(imagenames)]\n",
    "            else:\n",
    "                yield np.array(x)/255.0,out_cat_features\n",
    "            w_ids,ids,x,y,imagenames,feature_list =[], [],[], [],[],[]    "
   ]
  },
  {
   "cell_type": "code",
   "execution_count": null,
   "metadata": {
    "colab": {},
    "colab_type": "code",
    "id": "KdJTjSvhMi8l",
    "scrolled": true
   },
   "outputs": [],
   "source": [
    "\n",
    "batch_size = 64\n",
    "\n",
    "tg = datagen(batch_size,image_path=train_path,vshift=(-10,10),list_of_writers=train_images)\n",
    "vg = datagen(batch_size,image_path=val_path,vshift=(-10,10), list_of_writers=val_images)\n"
   ]
  },
  {
   "cell_type": "code",
   "execution_count": null,
   "metadata": {
    "colab": {
     "base_uri": "https://localhost:8080/",
     "height": 968
    },
    "colab_type": "code",
    "executionInfo": {
     "elapsed": 466757,
     "status": "error",
     "timestamp": 1554733843918,
     "user": {
      "displayName": "Ravi Teja Sunkara",
      "photoUrl": "https://lh5.googleusercontent.com/-_Ty_1SdXeJM/AAAAAAAAAAI/AAAAAAAAFhs/Yk8GsEJamvY/s64/photo.jpg",
      "userId": "17788242209305320991"
     },
     "user_tz": 240
    },
    "id": "IeHoEWJTMi8y",
    "outputId": "25b74c1d-9c53-4664-e911-c032bc85175d",
    "scrolled": true
   },
   "outputs": [],
   "source": [
    "# images\n",
    "inputs,o = next(tg)\n",
    "print(inputs.shape)\n",
    "for op in o:\n",
    "    print((np.argmax(op, axis=1)+1)[0])\n",
    "#     print('------')\n",
    "# feature_list"
   ]
  },
  {
   "cell_type": "code",
   "execution_count": null,
   "metadata": {
    "colab": {},
    "colab_type": "code",
    "id": "d5EuMSjzMi-D",
    "outputId": "86499c17-afbe-482d-aa86-ca2351c389bd"
   },
   "outputs": [],
   "source": [
    "csv_data[csv_data['imagename']=='0066c_num3.png'].values[0][1:]"
   ]
  },
  {
   "cell_type": "code",
   "execution_count": null,
   "metadata": {
    "colab": {
     "base_uri": "https://localhost:8080/",
     "height": 519
    },
    "colab_type": "code",
    "executionInfo": {
     "elapsed": 2270,
     "status": "error",
     "timestamp": 1554732198391,
     "user": {
      "displayName": "Ravi Teja Sunkara",
      "photoUrl": "https://lh5.googleusercontent.com/-_Ty_1SdXeJM/AAAAAAAAAAI/AAAAAAAAFhs/Yk8GsEJamvY/s64/photo.jpg",
      "userId": "17788242209305320991"
     },
     "user_tz": 240
    },
    "id": "D528Y2UZMi-M",
    "outputId": "86b1af4a-26cc-4f01-feeb-ffdea1f86450",
    "scrolled": true
   },
   "outputs": [],
   "source": [
    "for r in range(8):\n",
    "    f,ax = plt.subplots(1,8)\n",
    "    f.subplots_adjust(hspace = .00, wspace=.15)\n",
    "    f.set_size_inches(15,5)\n",
    "    for c in range (8):\n",
    "        ax[c].imshow(inputs[c+r*8].reshape((64,64)))\n",
    "        ax[c].axis('off')"
   ]
  },
  {
   "cell_type": "code",
   "execution_count": null,
   "metadata": {
    "colab": {},
    "colab_type": "code",
    "id": "KWZLtRHSMi-R"
   },
   "outputs": [],
   "source": []
  },
  {
   "cell_type": "code",
   "execution_count": null,
   "metadata": {
    "colab": {},
    "colab_type": "code",
    "id": "oALCwbwkMi-U"
   },
   "outputs": [],
   "source": [
    "losses = {}\n",
    "lossWeights = {}\n",
    "for i in range(1,16):\n",
    "    losses[\"out_feature_\"+str(i)] = \"categorical_crossentropy\"\n",
    "    lossWeights[\"out_feature_\"+str(i)] = 1.0\n",
    "# lossWeights[\"out_feature_1\"] = 10.0\n",
    "# lossWeights[\"out_feature_2\"] = 8.0\n",
    "# lossWeights[\"out_feature_3\"] = 0.1\n",
    "# lossWeights[\"out_feature_4\"] = 8.0\n",
    "# lossWeights[\"out_feature_5\"] = 1.0\n",
    "# lossWeights[\"out_feature_6\"] = 5.0\n",
    "# lossWeights[\"out_feature_7\"] = 5.0\n",
    "# lossWeights[\"out_feature_8\"] = 10.0\n"
   ]
  },
  {
   "cell_type": "code",
   "execution_count": null,
   "metadata": {
    "colab": {},
    "colab_type": "code",
    "id": "OzvOq9W2Mi-Y"
   },
   "outputs": [],
   "source": [
    "mc = ModelCheckpoint(filepath='./15-Multitask-FrozenEncoder-unseen_v2.h5', monitor='val_loss',period=1,save_best_only=True,save_weights_only=True,mode='auto',verbose=3)\n",
    "es = EarlyStopping(patience=10000, monitor='val_loss', min_delta=0.0005, mode='auto')"
   ]
  },
  {
   "cell_type": "code",
   "execution_count": null,
   "metadata": {
    "colab": {
     "base_uri": "https://localhost:8080/",
     "height": 2083
    },
    "colab_type": "code",
    "executionInfo": {
     "elapsed": 2059,
     "status": "ok",
     "timestamp": 1554732218623,
     "user": {
      "displayName": "Ravi Teja Sunkara",
      "photoUrl": "https://lh5.googleusercontent.com/-_Ty_1SdXeJM/AAAAAAAAAAI/AAAAAAAAFhs/Yk8GsEJamvY/s64/photo.jpg",
      "userId": "17788242209305320991"
     },
     "user_tz": 240
    },
    "id": "fxU6-O_yMi-d",
    "outputId": "0ebaac21-0158-4007-8711-42239a5aeaca",
    "scrolled": true
   },
   "outputs": [],
   "source": [
    "# EPOCHS = 500000\n",
    "EPOCHS = 10\n",
    "INIT_LR = 0.0001\n",
    "opt = SGD(lr=INIT_LR, decay=1e-6, momentum=0.95, nesterov=True)\n",
    "# opt = Adam(lr=INIT_LR, decay=INIT_LR / EPOCHS)\n",
    "# opt = Adadelta(lr=INIT_LR, decay=1e-04)\n",
    "\n",
    "# feat_extractor.compile(optimizer=opt, loss=losses, loss_weights=lossWeights,metrics=[\"accuracy\"])\n",
    "\n",
    "\n",
    "human_features.compile(optimizer=opt, loss=losses, loss_weights=lossWeights,metrics=[\"accuracy\"])\n",
    "human_features.summary()"
   ]
  },
  {
   "cell_type": "code",
   "execution_count": null,
   "metadata": {
    "colab": {
     "base_uri": "https://localhost:8080/",
     "height": 669
    },
    "colab_type": "code",
    "executionInfo": {
     "elapsed": 6617,
     "status": "error",
     "timestamp": 1554732238341,
     "user": {
      "displayName": "Ravi Teja Sunkara",
      "photoUrl": "https://lh5.googleusercontent.com/-_Ty_1SdXeJM/AAAAAAAAAAI/AAAAAAAAFhs/Yk8GsEJamvY/s64/photo.jpg",
      "userId": "17788242209305320991"
     },
     "user_tz": 240
    },
    "id": "yK0QqP_BMi_T",
    "outputId": "5f7afd95-5293-43eb-e5d9-3b73481bc73b",
    "scrolled": true
   },
   "outputs": [],
   "source": [
    "# human_features.load_weights('./drive/My Drive/Colab Notebooks/AML - Project 2/unseen-dataset/weights/15-Multitask-FrozenEncoder-unseen_v1.h5')\n",
    "hist = human_features.fit_generator(tg, callbacks=[mc,es]\n",
    "                                    , epochs=EPOCHS\n",
    "                                    , steps_per_epoch = 1\n",
    "                                    , validation_data = vg\n",
    "                                    , validation_steps = 1\n",
    "                                    , verbose = 3\n",
    "                                    \n",
    "                                   )"
   ]
  },
  {
   "cell_type": "code",
   "execution_count": null,
   "metadata": {
    "colab": {},
    "colab_type": "code",
    "id": "86gF4vk0Mi_g",
    "outputId": "d1836a4d-9384-467f-a083-9de0f3318335",
    "scrolled": true
   },
   "outputs": [],
   "source": [
    "df_hist = pd.DataFrame(hist.history)\n",
    "df_hist.plot(subplots=True, figsize=(15,100))\n",
    "print(df_hist['val_loss'].min())\n",
    "df_hist[df_hist['val_loss']<6.31]"
   ]
  },
  {
   "cell_type": "code",
   "execution_count": null,
   "metadata": {
    "colab": {},
    "colab_type": "code",
    "id": "tFP6C-2wMi_l",
    "outputId": "c6d094e5-d332-4587-eccb-865103d56ccb"
   },
   "outputs": [],
   "source": [
    "# human_features.load_weights('human_features_weights_v2.h5')\n",
    "human_features.load_weights('./15-Multitask-FrozenEncoder-unseen_v1.h5')\n",
    "vx,vo=next(vg)\n",
    "# print(len(vo))\n",
    "fig = plt.figure(figsize=(80,200))\n",
    "fig.subplots_adjust(left=0, right=1, bottom=0, top=1, hspace=1.51, wspace=0.05)\n",
    "for i in range(64):\n",
    "#     print(i, '\\nPredicted:')\n",
    "    \n",
    "    real=''\n",
    "    for f in range(15):\n",
    "#         print(vo[i][f])\n",
    "        real+=str(np.argmax(vo[f][i])+1)+','\n",
    "    \n",
    "    f_probs = human_features.predict(np.expand_dims(vx[i],0))\n",
    "#     print(f_probs)\n",
    "    pred=''\n",
    "    for prob in f_probs:\n",
    "#         print(prob)\n",
    "        pred+=str(np.argmax(prob[0])+1)+','\n",
    "    \n",
    "    ax = fig.add_subplot(64, 1, i + 1, xticks=[], yticks=[])\n",
    "    ax.imshow(vx[i].reshape((64,64)))\n",
    "    ax.set_title('real:'+real+'\\n pred:'+pred)\n",
    "#     print('\\n----------')\n",
    "#     print('True:')\n",
    "#     for op in o:\n",
    "#         print(np.argmax(op[i]),end=',')\n",
    "        \n",
    "#     print('\\n++++++',i,'++++++')"
   ]
  },
  {
   "cell_type": "code",
   "execution_count": null,
   "metadata": {
    "colab": {},
    "colab_type": "code",
    "id": "Tqr4kjYHMi_q",
    "outputId": "df42eaf3-fec0-4c47-e7b6-24957d14c897",
    "scrolled": false
   },
   "outputs": [],
   "source": [
    "# print(df_hist.columns)\n",
    "total = 0\n",
    "for i in range(1,16):\n",
    "    print(df_hist.iloc[18351]['val_out_feature_{0}_acc'.format(i)].max())\n",
    "    total+=df_hist.iloc[18351]['val_out_feature_{0}_acc'.format(i)]\n",
    "print('total_acc:',total/15)\n",
    "# print(np.mean([df_hist['val_out_feature_1_acc'].max(), df_hist['val_out_feature_2_acc'].max(),\n",
    "#        df_hist['val_out_feature_3_acc'].max(), df_hist['val_out_feature_4_acc'].max(),\n",
    "#        df_hist['val_out_feature_5_acc'].max(), df_hist['val_out_feature_6_acc'].max(),\n",
    "#        df_hist['val_out_feature_7_acc'].max(), df_hist['val_out_feature_8_acc'].max()]))\n",
    "# df_hist[df_hist['val_acc']>10.2]"
   ]
  },
  {
   "cell_type": "code",
   "execution_count": null,
   "metadata": {
    "colab": {},
    "colab_type": "code",
    "id": "yiPn84ehMjAp"
   },
   "outputs": [],
   "source": [
    "fig = plt.figure(figsize=(30,30))\n",
    "fig.subplots_adjust(left=0, right=1, bottom=0, top=1, hspace=0.05, wspace=0.05)\n",
    "for i in range(30):\n",
    "    ax = fig.add_subplot(1, 30, i + 1, xticks=[], yticks=[])\n",
    "    ax.imshow(inputs[64-30:64][i].reshape((64,64)))\n",
    "    ax.set_title(i+34)"
   ]
  },
  {
   "cell_type": "code",
   "execution_count": null,
   "metadata": {
    "colab": {},
    "colab_type": "code",
    "id": "wVHeCJ98MjAx",
    "scrolled": true
   },
   "outputs": [],
   "source": [
    "csv_data.var()"
   ]
  },
  {
   "cell_type": "markdown",
   "metadata": {
    "colab_type": "text",
    "id": "VSFRBdlTMjA1"
   },
   "source": [
    "# Evaluation"
   ]
  },
  {
   "cell_type": "code",
   "execution_count": null,
   "metadata": {
    "colab": {},
    "colab_type": "code",
    "id": "EySPmCMGVmmJ"
   },
   "outputs": [],
   "source": [
    "test_g = datagen(len(val_images),val_path,val_images, vshift = (-10,10), vis=True)\n",
    "testx,testy = next(test_g)"
   ]
  },
  {
   "cell_type": "code",
   "execution_count": null,
   "metadata": {
    "colab": {},
    "colab_type": "code",
    "id": "PWTMMEQoVmTd"
   },
   "outputs": [],
   "source": [
    "pred_flat = []\n",
    "for i in range(1,len(feature_lengths)+1):\n",
    "    pred_flat.append(human_features.get_layer('dense_layer_'+str(i)).output)\n",
    "human_features_eval = Model(inputs=human_features.input, outputs=pred_flat)\n",
    "human_features_encoder = Model(human_features.input,human_features.get_layer('encoded').output)"
   ]
  },
  {
   "cell_type": "code",
   "execution_count": null,
   "metadata": {
    "colab": {},
    "colab_type": "code",
    "id": "4XLKIHcwVmKi"
   },
   "outputs": [],
   "source": [
    "feature_wise_pred_y=human_features_eval.predict(testx)\n",
    "latent_pred_y=human_features_encoder.predict(testx)"
   ]
  },
  {
   "cell_type": "code",
   "execution_count": null,
   "metadata": {
    "colab": {},
    "colab_type": "code",
    "id": "sfDLXta_Vltg"
   },
   "outputs": [],
   "source": [
    "feature_wise_pred_y=np.array(feature_wise_pred_y)\n",
    "latent_pred_y=np.array(latent_pred_y).reshape((-1,512))"
   ]
  },
  {
   "cell_type": "code",
   "execution_count": null,
   "metadata": {
    "colab": {},
    "colab_type": "code",
    "id": "UBIjEidwV2FS"
   },
   "outputs": [],
   "source": [
    "feature_wise_pred_y=np.array(feature_wise_pred_y)\n",
    "latent_pred_y=np.array(latent_pred_y).reshape((-1,512))"
   ]
  },
  {
   "cell_type": "code",
   "execution_count": null,
   "metadata": {
    "colab": {},
    "colab_type": "code",
    "id": "nDtlBScOV1eU"
   },
   "outputs": [],
   "source": [
    "latent_pred_y.shape,feature_wise_pred_y.shape"
   ]
  },
  {
   "cell_type": "code",
   "execution_count": null,
   "metadata": {
    "colab": {},
    "colab_type": "code",
    "id": "vNAltBcyV08i"
   },
   "outputs": [],
   "source": [
    "ids = testy[0].reshape(-1,1)\n",
    "imagenames = testy[1].reshape(-1,1)\n",
    "data=[]\n",
    "for i in range(len(testx)):\n",
    "    data.append([ids[i][0],imagenames[i][0],latent_pred_y[i]])\n",
    "df_data = pd.DataFrame(data=data, columns=['identity','imagename','latent'])\n",
    "# df_outs['ids'] = ids\n",
    "# df_outs['preds'] = preds \n",
    "df_data=df_data.sort_values(by='identity').reset_index()\n",
    "df_data.head(10)"
   ]
  },
  {
   "cell_type": "code",
   "execution_count": null,
   "metadata": {
    "colab": {},
    "colab_type": "code",
    "id": "gM97B8WYWCSF"
   },
   "outputs": [],
   "source": [
    "from sklearn.metrics.pairwise import cosine_similarity\n",
    "from tqdm import tqdm_notebook\n",
    "cos_dist_out = cosine_similarity(list(df_data['latent'].values))"
   ]
  },
  {
   "cell_type": "code",
   "execution_count": null,
   "metadata": {
    "colab": {},
    "colab_type": "code",
    "id": "Z7gXsY_TWCIs"
   },
   "outputs": [],
   "source": [
    "thresholds = [0.7,0.8,0.95]\n",
    "for th in thresholds:\n",
    "#         th = 0.6\n",
    "    t_p=0\n",
    "    f_p=0\n",
    "    f_n=0\n",
    "    t_n=0\n",
    "    for i in range(cos_dist_out.shape[0]):\n",
    "        for j in range(cos_dist_out.shape[0]):\n",
    "            if(cos_dist_out.index[i]==cos_dist_out.columns.values[j] and cos_dist_out.iloc[i,j]>th):\n",
    "                t_p+=1\n",
    "            elif(cos_dist_out.index[i]!=cos_dist_out.columns.values[j] and cos_dist_out.iloc[i,j]<th):\n",
    "                t_n+=1\n",
    "            elif(cos_dist_out.index[i]!=cos_dist_out.columns.values[j] and cos_dist_out.iloc[i,j]>th):\n",
    "                f_p+=1\n",
    "            else:\n",
    "                f_n+=1\n",
    "#         print(f_p)\n",
    "    precision = t_p / (t_p + f_p)\n",
    "    recall = t_p / (t_p + f_n)  \n",
    "    print('precision for threshold of '+ str(th) + ' is: '+ str(precision))\n",
    "    print('recall for threshold of ' + str(th) + ' is: ' + str(recall))\n",
    "    total=np.sum((t_p,t_n,f_p,f_n))\n",
    "    accuracy=(t_p+t_n)/total\n",
    "    print('accuracy',accuracy)"
   ]
  }
 ],
 "metadata": {
  "accelerator": "GPU",
  "colab": {
   "collapsed_sections": [],
   "name": "Multitask-FrozenEncoder-unseen.ipynb",
   "provenance": [],
   "version": "0.3.2"
  },
  "kernelspec": {
   "display_name": "Python 3",
   "language": "python",
   "name": "python3"
  },
  "language_info": {
   "codemirror_mode": {
    "name": "ipython",
    "version": 3
   },
   "file_extension": ".py",
   "mimetype": "text/x-python",
   "name": "python",
   "nbconvert_exporter": "python",
   "pygments_lexer": "ipython3",
   "version": "3.6.5"
  }
 },
 "nbformat": 4,
 "nbformat_minor": 1
}
