{
 "cells": [
  {
   "cell_type": "code",
   "execution_count": null,
   "metadata": {
    "colab": {
     "base_uri": "https://localhost:8080/",
     "height": 34
    },
    "colab_type": "code",
    "id": "DTfZjUyg0UxY",
    "outputId": "4f1a67f8-c20d-4b05-e42e-a4590100a35f"
   },
   "outputs": [],
   "source": [
    "import keras\n",
    "import pandas as pd\n",
    "import os\n",
    "os.environ[\"CUDA_VISIBLE_DEVICES\"] = \"1\"\n",
    "import numpy as np\n",
    "import matplotlib.pyplot as plt\n",
    "import cv2\n",
    "%matplotlib inline\n",
    "from keras.callbacks import ModelCheckpoint, EarlyStopping\n",
    "# %reload_ext mermaid\n",
    "# import IPython\n",
    "# IPython.load_ipython_extensions([\"nb-mermaid/nb-mermaid\"]);"
   ]
  },
  {
   "cell_type": "code",
   "execution_count": null,
   "metadata": {
    "colab": {},
    "colab_type": "code",
    "id": "EkRN9Atr0Uxj"
   },
   "outputs": [],
   "source": [
    "import tensorflow  as tf\n",
    "from keras.models import Sequential, Model\n",
    "from keras.layers import Conv2D, MaxPool2D, Dropout,UpSampling2D, Dense, MaxPooling2D, BatchNormalization, Input, Flatten, Lambda\n",
    "from IPython.display import SVG\n",
    "from keras.utils.vis_utils import model_to_dot\n",
    "from keras.optimizers import Adadelta, SGD, Adam\n",
    "from keras.utils import to_categorical\n",
    "import keras.backend as K"
   ]
  },
  {
   "cell_type": "code",
   "execution_count": null,
   "metadata": {
    "colab": {},
    "colab_type": "code",
    "id": "PJ1R8BwB0Uxo"
   },
   "outputs": [],
   "source": [
    "tf_config = tf.ConfigProto(allow_soft_placement=False)\n",
    "tf_config.gpu_options.allow_growth = True\n",
    "s = tf.Session(config=tf_config)\n",
    "K.set_session(s)"
   ]
  },
  {
   "cell_type": "code",
   "execution_count": null,
   "metadata": {
    "colab": {
     "base_uri": "https://localhost:8080/",
     "height": 249
    },
    "colab_type": "code",
    "id": "-J_KliFh0Uxs",
    "outputId": "b86631f0-983a-4145-9b41-5b3a69d3ac2e"
   },
   "outputs": [],
   "source": [
    "csv_data = pd.read_csv('./15features.csv')\n",
    "display(csv_data.head()), display(csv_data.shape)\n",
    "train_path = './seen-dataset/TrainingSet/data/'\n",
    "train_images = os.listdir(train_path)\n",
    "\n",
    "val_path = './seen-dataset/ValidationSet/images'\n",
    "val_images = os.listdir(val_path)\n",
    "len(train_images)+len(val_images)"
   ]
  },
  {
   "cell_type": "code",
   "execution_count": null,
   "metadata": {
    "colab": {
     "base_uri": "https://localhost:8080/",
     "height": 676
    },
    "colab_type": "code",
    "id": "LZIJhkc50Ux4",
    "outputId": "780efb95-52e5-450a-c7ae-4ff04dd26f58",
    "scrolled": true
   },
   "outputs": [],
   "source": [
    "dataset_columns = csv_data.columns\n",
    "csv_data['imagename'] = csv_data['imagename'].astype('str')\n",
    "display(csv_data.head(20))\n",
    "csv_data.shape"
   ]
  },
  {
   "cell_type": "code",
   "execution_count": null,
   "metadata": {
    "colab": {},
    "colab_type": "code",
    "id": "bFmrTfFg0Ux-",
    "scrolled": true
   },
   "outputs": [],
   "source": [
    "# train_csv_data =  csv_data[:700]\n",
    "# val_csv_data =  csv_data[700:]\n",
    "# train_csv_data.shape, val_csv_data.shape"
   ]
  },
  {
   "cell_type": "code",
   "execution_count": null,
   "metadata": {
    "colab": {
     "base_uri": "https://localhost:8080/",
     "height": 34
    },
    "colab_type": "code",
    "id": "OKrPGj230UyC",
    "outputId": "2698810b-ef16-4bf4-bf93-5ac5b1332c05"
   },
   "outputs": [],
   "source": [
    "f = []\n",
    "for col in dataset_columns[1:]:\n",
    "    f.append(csv_data[col].unique().shape[0])\n",
    "f,len(f)"
   ]
  },
  {
   "cell_type": "code",
   "execution_count": null,
   "metadata": {
    "colab": {
     "base_uri": "https://localhost:8080/",
     "height": 87
    },
    "colab_type": "code",
    "id": "twEyC6Qm0UyK",
    "outputId": "69ced0a0-b9ae-407c-b0e5-05195b0d5066"
   },
   "outputs": [],
   "source": [
    "input_img = Input(shape=(64, 64, 1))  # adapt this if using `channels_first` image data format\n",
    "\n",
    "x = Conv2D(16, (3, 3), activation='relu', padding='same')(input_img)\n",
    "x = MaxPooling2D((2, 2), padding='same')(x)\n",
    "x = Conv2D(32, (3, 3), activation='relu', padding='same')(x)\n",
    "x = MaxPooling2D((2, 2), padding='same')(x)\n",
    "x = Conv2D(64, (3, 3), activation='relu', padding='same')(x)\n",
    "x = MaxPooling2D((2, 2), padding='same')(x)\n",
    "x = Conv2D(128, (3, 3), activation='relu', padding='same')(x)\n",
    "x = MaxPooling2D((2, 2), padding='same')(x)\n",
    "x = Conv2D(256, (3, 3), activation='relu', padding='same')(x)\n",
    "x = MaxPooling2D((2, 2), padding='same')(x)\n",
    "x = Conv2D(512, (3, 3), activation='relu', padding='same')(x)\n",
    "encoded = MaxPooling2D((2, 2), padding='same', name='encoded')(x)\n",
    "# encoded = GlobalAveragePooling2D()(x)\n",
    "\n",
    "# encoder = Model(input_img, encoded)\n",
    "# encoder.summary()\n",
    "# print(encoded.shape)\n",
    "# encoded = Flatten()(x)\n",
    "# encoded = Dense(8*8*8)(encoded)\n",
    "# # model = Model(input_img,encoded)\n",
    "# # print(model.summary())\n",
    "# # at this point the representation is (4, 4, 8) i.e. 128-dimensional\n",
    "# r = Reshape(target_shape=(8,8,8))(encoded)\n",
    "x = Conv2D(512, (3, 3), activation='relu', padding='same')(encoded)\n",
    "x = UpSampling2D((2, 2))(x)\n",
    "x = Conv2D(256, (3, 3), activation='relu', padding='same')(x)\n",
    "x = UpSampling2D((2, 2))(x)\n",
    "x = Conv2D(128, (3, 3), activation='relu', padding='same')(x)\n",
    "x = UpSampling2D((2, 2))(x)\n",
    "x = Conv2D(64, (3, 3), activation='relu', padding='same')(x)\n",
    "x = UpSampling2D((2, 2))(x)\n",
    "x = Conv2D(32, (3, 3), activation='relu', padding='same')(x)\n",
    "x = UpSampling2D((2, 2))(x)\n",
    "x = Conv2D(16, (3, 3), activation='relu', padding='same')(x)\n",
    "x = UpSampling2D((2, 2))(x)\n",
    "decoded = Conv2D(1, (3, 3), activation='sigmoid', padding='same',name='output')(x)\n",
    "\n",
    "autoencoder = Model(input_img, decoded)\n",
    "# autoencoder.load_weights('./drive/My Drive/Colab Notebooks/AML - Project 2/seen-dataset/weights/simple_ae_maxpool_seen_weights_v1.h5')"
   ]
  },
  {
   "cell_type": "code",
   "execution_count": null,
   "metadata": {
    "colab": {
     "base_uri": "https://localhost:8080/",
     "height": 571
    },
    "colab_type": "code",
    "id": "o1tIIclT0UyO",
    "outputId": "74ee81d5-eba5-4ad4-b5ea-4543bec2a0cf"
   },
   "outputs": [],
   "source": [
    "encoder = Model(autoencoder.input,autoencoder.get_layer('encoded').output)\n",
    "encoder.summary()\n",
    "for layer in encoder.layers:\n",
    "    layer.trainable = False"
   ]
  },
  {
   "cell_type": "code",
   "execution_count": null,
   "metadata": {
    "colab": {
     "base_uri": "https://localhost:8080/",
     "height": 34
    },
    "colab_type": "code",
    "id": "ttLtW80SlWxs",
    "outputId": "0713c747-7567-4260-f6cd-22d22194f577"
   },
   "outputs": [],
   "source": [
    "f"
   ]
  },
  {
   "cell_type": "code",
   "execution_count": null,
   "metadata": {
    "colab": {
     "base_uri": "https://localhost:8080/",
     "height": 2083
    },
    "colab_type": "code",
    "id": "fZ0KvKKA0UyW",
    "outputId": "2ab9a71a-0e63-4464-bccf-5719265c69a2",
    "scrolled": true
   },
   "outputs": [],
   "source": [
    "\n",
    "# # model = Sequential()\n",
    "# input_layer = Input((64,64,1))\n",
    "# model = BatchNormalization()(input_layer)\n",
    "\n",
    "# model = Conv2D(activation='relu',filters=32, kernel_size=(32,32), padding='same')(model)\n",
    "# model = Conv2D(activation='relu',filters=64, kernel_size=(32,32), strides=(1,1), padding='same')(model)\n",
    "# model = MaxPool2D((2,2))(model)\n",
    "# model = Dropout(0.25)(model)\n",
    "\n",
    "# model = Conv2D(activation='relu',filters=128, kernel_size=(16,16), padding='same')(model)\n",
    "# model = Conv2D(activation='relu',filters=256, kernel_size=(16,16), strides=(1,1), padding='same')(model)\n",
    "# model = MaxPool2D((2,2))(model)\n",
    "# model = Dropout(0.25)(model)\n",
    "\n",
    "# model = Conv2D(activation='relu',filters=128, kernel_size=(8,8), padding='same')(model)\n",
    "# model = Conv2D(activation='relu',filters=256, kernel_size=(8,8), strides=(1,1), padding='same')(model)\n",
    "# model = MaxPool2D((2,2))(model)\n",
    "# model = Dropout(0.25)(model)\n",
    "# # model = Flatten()(model)\n",
    "\n",
    "# dense_layer = Dense(512, activation='relu')(model)\n",
    "# dense_layer = Dropout(0.5)(dense_layer)\n",
    "dense_layer = encoder.get_layer('encoded').output\n",
    "out_dense_layer=[]\n",
    "for i in range(1,len(f)+1):\n",
    "    out_dense_layer.append(Dense(f[i-1] , activation='softmax', name = 'out_feature_'+str(i))(Dense(128 , activation='relu', name = 'dense_layer_'+str(i))(Flatten()((dense_layer)))))\n",
    "\n",
    "human_features = Model(inputs=encoder.input, outputs=out_dense_layer)\n",
    "human_features.summary()"
   ]
  },
  {
   "cell_type": "code",
   "execution_count": null,
   "metadata": {
    "colab": {
     "base_uri": "https://localhost:8080/",
     "height": 1774
    },
    "colab_type": "code",
    "id": "yu4QkDBi0Uyc",
    "outputId": "df9b2937-320c-49f1-9b88-7d060e50d51e",
    "scrolled": true
   },
   "outputs": [],
   "source": [
    "SVG(model_to_dot(human_features, show_layer_names=True, show_shapes=True).create(prog='dot', format='svg'))"
   ]
  },
  {
   "cell_type": "code",
   "execution_count": null,
   "metadata": {
    "colab": {
     "base_uri": "https://localhost:8080/",
     "height": 34
    },
    "colab_type": "code",
    "id": "1YGr52fE0Uyi",
    "outputId": "b6f20153-ab40-4ba9-b6f2-4b139da5b36a"
   },
   "outputs": [],
   "source": [
    "feature_lengths = {}\n",
    "for col in dataset_columns[1:]:\n",
    "    feature_lengths[col] = len(csv_data[col].unique())\n",
    "feature_lengths = list(feature_lengths.values())\n",
    "feature_lengths, len(feature_lengths)"
   ]
  },
  {
   "cell_type": "code",
   "execution_count": null,
   "metadata": {
    "colab": {},
    "colab_type": "code",
    "id": "ZivgUi7D0Uyq",
    "scrolled": true
   },
   "outputs": [],
   "source": [
    "# df_data[df_data['f8']==2]"
   ]
  },
  {
   "cell_type": "code",
   "execution_count": null,
   "metadata": {
    "colab": {},
    "colab_type": "code",
    "id": "APxBEd7j0Uyy"
   },
   "outputs": [],
   "source": [
    "# im = images[images['image'].str.match('1229b')]\n",
    "# im.iloc[0]['image']"
   ]
  },
  {
   "cell_type": "code",
   "execution_count": null,
   "metadata": {
    "colab": {},
    "colab_type": "code",
    "id": "roj11gAa0Uy9"
   },
   "outputs": [],
   "source": [
    "# csv_data[csv_data['ImageId'].str.match('1302c')]"
   ]
  },
  {
   "cell_type": "code",
   "execution_count": null,
   "metadata": {
    "colab": {},
    "colab_type": "code",
    "id": "rEnVZnD_0UzD"
   },
   "outputs": [],
   "source": [
    "\n",
    "def datagen(batch_size,image_path,list_of_writers, vshift = (-64,64) ,vis=False):\n",
    "    counter = 0\n",
    "    w_ids,ids,x,y,imagenames, feature_list = [],[],[],[],[],[]\n",
    "    while True:\n",
    "#         counter = 0\n",
    "        # for writer in unique_writers:\n",
    "        #     print(identitycounter*100/stop_at, end='\\r')\n",
    "        \n",
    "        writer_index = np.random.randint(0,len(list_of_writers))\n",
    "        \n",
    "#         for writer_index in writer_indexes:\n",
    "#             class_vectors = []\n",
    "#             features = None\n",
    "        imagename = list_of_writers[writer_index]\n",
    "#             print('-->',csv_data['imagename'][0],imagename)\n",
    "#             display(csv_data[csv_data['imagename']==imagename].values[0][1:])\n",
    "        features = csv_data[csv_data['imagename']==imagename].values\n",
    "        if len(features)==0:\n",
    "#             print('no features', imagename)\n",
    "            continue\n",
    "        features = features[0][1:]-1\n",
    "#             print(features)\n",
    "#             print(writer)\n",
    "#             writer_samples = list(images[images['image'].str.match(writer)]['image'])\n",
    "#             print('writer:',writer,', writer_samples:',writer_samples)\n",
    "#             if len(writer_samples) == 0:\n",
    "#                 continue\n",
    "#             writer_sample_index = np.random.randint(0,len(writer_samples))\n",
    "\n",
    "#             #     unique_writers_count[writer] = len(writer_samples)\n",
    "# #             print('writer_sample_index:',writer_sample_index)\n",
    "#             csv_writer = writer_samples[writer_sample_index][:5]\n",
    "\n",
    "\n",
    "        loaded_image = cv2.imread(os.path.join(image_path,imagename),0)\n",
    "        rand = np.random.randint(vshift[0],vshift[1])\n",
    "        loaded_image_shifted=np.roll(axis=0,a=loaded_image,shift=rand)\n",
    "\n",
    "        x.append(255.0-loaded_image_shifted.reshape((64,64,1)))\n",
    "        y.append(255.0-loaded_image.reshape((64,64,1)))\n",
    "        w_ids.append(imagename[:4])\n",
    "#         print(w_ids)\n",
    "        imagenames.append(imagename)\n",
    "#         print(imagenames)\n",
    "        ids.append(writer_index)\n",
    "        feature_list.append(features)\n",
    "#         print(imagename)\n",
    "        counter+=1\n",
    "#         print('counter:', counter, end='\\r')\n",
    "        if counter == batch_size:\n",
    "            counter=0\n",
    "            feature_list = np.array(feature_list)\n",
    "            feature_list = feature_list.transpose()\n",
    "#             print(len(feature_list[1]))\n",
    "#             print(len(feature_list[1]))\n",
    "#             print(feature_lengths[1])\n",
    "#             print(to_categorical(feature_list[14],num_classes=feature_lengths[14]).shape)\n",
    "            out_cat_features = []\n",
    "            for i in range(len(feature_list)):\n",
    "#                 print(feature_list[1])\n",
    "                out_cat_features.append(to_categorical(feature_list[i],num_classes=feature_lengths[i]))\n",
    "#             print(out_cat_features)\n",
    "            if vis== True:\n",
    "                yield np.array(x)/255.0,[np.array(w_ids),np.array(imagenames)]\n",
    "            else:\n",
    "                yield np.array(x)/255.0,out_cat_features\n",
    "            w_ids,ids,x,y,imagenames,feature_list =[], [],[], [],[],[]    "
   ]
  },
  {
   "cell_type": "code",
   "execution_count": null,
   "metadata": {
    "colab": {},
    "colab_type": "code",
    "id": "ssa-q8lN0UzJ",
    "scrolled": true
   },
   "outputs": [],
   "source": [
    "\n",
    "batch_size = 64\n",
    "\n",
    "tg = datagen(batch_size,image_path=train_path,vshift=(-10,10),list_of_writers=train_images)\n",
    "vg = datagen(batch_size,image_path=val_path,vshift=(-10,10), list_of_writers=val_images)\n"
   ]
  },
  {
   "cell_type": "code",
   "execution_count": null,
   "metadata": {
    "colab": {
     "base_uri": "https://localhost:8080/",
     "height": 50
    },
    "colab_type": "code",
    "id": "9GL__o2pOCWu",
    "outputId": "2b9a2132-9bc5-4e41-dabf-0de266ec4f60"
   },
   "outputs": [],
   "source": [
    "inputs,o = next(tg)\n",
    "print(inputs.shape)\n",
    "(o[1]).shape\n",
    "# o\n",
    "# print(o.head())"
   ]
  },
  {
   "cell_type": "code",
   "execution_count": null,
   "metadata": {
    "colab": {
     "base_uri": "https://localhost:8080/",
     "height": 286
    },
    "colab_type": "code",
    "id": "qiN-bXfW0UzN",
    "outputId": "aa8d69ff-7187-4a70-a220-1ec770a93cb6",
    "scrolled": true
   },
   "outputs": [],
   "source": [
    "# images\n",
    "inputs,o = next(tg)\n",
    "print(inputs.shape)\n",
    "for op in o:\n",
    "    print((np.argmax(op, axis=1)+1)[0])\n",
    "#     print('------')\n",
    "# feature_list"
   ]
  },
  {
   "cell_type": "code",
   "execution_count": null,
   "metadata": {
    "colab": {
     "base_uri": "https://localhost:8080/",
     "height": 34
    },
    "colab_type": "code",
    "id": "9bBsit_N0UzS",
    "outputId": "74af193b-67e0-4174-d5d8-8e3b330e7d74"
   },
   "outputs": [],
   "source": [
    "csv_data[csv_data['imagename']=='0066c_num3.png'].values[0][1:]"
   ]
  },
  {
   "cell_type": "code",
   "execution_count": null,
   "metadata": {
    "colab": {
     "base_uri": "https://localhost:8080/",
     "height": 1054
    },
    "colab_type": "code",
    "id": "1-Xef5570UzY",
    "outputId": "d28e48ef-6e1a-403d-fc4e-eacb28c08702",
    "scrolled": true
   },
   "outputs": [],
   "source": [
    "for r in range(8):\n",
    "    f,ax = plt.subplots(1,8)\n",
    "    f.subplots_adjust(hspace = .00, wspace=.15)\n",
    "    f.set_size_inches(15,5)\n",
    "    for c in range (8):\n",
    "        ax[c].imshow(inputs[c+r*8].reshape((64,64)))\n",
    "        ax[c].axis('off')"
   ]
  },
  {
   "cell_type": "code",
   "execution_count": null,
   "metadata": {
    "colab": {},
    "colab_type": "code",
    "id": "w1wAhJQA0Uzh"
   },
   "outputs": [],
   "source": [
    "losses = {}\n",
    "lossWeights = {}\n",
    "for i in range(1,16):\n",
    "    losses[\"out_feature_\"+str(i)] = \"categorical_crossentropy\"\n",
    "    lossWeights[\"out_feature_\"+str(i)] = 1.0\n",
    "# lossWeights[\"out_feature_1\"] = 10.0\n",
    "# lossWeights[\"out_feature_2\"] = 8.0\n",
    "# lossWeights[\"out_feature_3\"] = 0.1\n",
    "# lossWeights[\"out_feature_4\"] = 8.0\n",
    "# lossWeights[\"out_feature_5\"] = 1.0\n",
    "# lossWeights[\"out_feature_6\"] = 5.0\n",
    "# lossWeights[\"out_feature_7\"] = 5.0\n",
    "# lossWeights[\"out_feature_8\"] = 10.0"
   ]
  },
  {
   "cell_type": "code",
   "execution_count": null,
   "metadata": {
    "colab": {},
    "colab_type": "code",
    "id": "FPJQbz940Uzm"
   },
   "outputs": [],
   "source": [
    "mc = ModelCheckpoint(filepath='./15-Multitask-FrozenEncoder-seen_v2.h5', monitor='val_loss',period=1,save_best_only=True,save_weights_only=True,mode='auto',verbose=3)\n",
    "es = EarlyStopping(patience=10000, monitor='val_loss', min_delta=0.0005, mode='auto')"
   ]
  },
  {
   "cell_type": "code",
   "execution_count": null,
   "metadata": {
    "colab": {
     "base_uri": "https://localhost:8080/",
     "height": 2083
    },
    "colab_type": "code",
    "id": "p539DmqI0Uzs",
    "outputId": "ff0c452b-7152-4421-e24c-79958dfb235a",
    "scrolled": true
   },
   "outputs": [],
   "source": [
    "# EPOCHS = 500000\n",
    "EPOCHS=10\n",
    "INIT_LR = 0.01\n",
    "opt = SGD(lr=INIT_LR, decay=1e-6, momentum=0.95, nesterov=True)\n",
    "# opt = Adam(lr=INIT_LR, decay=INIT_LR / EPOCHS)\n",
    "# opt = Adadelta(lr=INIT_LR, decay=1e-04)\n",
    "\n",
    "# feat_extractor.compile(optimizer=opt, loss=losses, loss_weights=lossWeights,metrics=[\"accuracy\"])\n",
    "\n",
    "\n",
    "human_features.compile(optimizer=opt, loss=losses, loss_weights=lossWeights,metrics=[\"accuracy\"])\n",
    "human_features.summary()"
   ]
  },
  {
   "cell_type": "code",
   "execution_count": null,
   "metadata": {
    "colab": {
     "base_uri": "https://localhost:8080/",
     "height": 252037
    },
    "colab_type": "code",
    "id": "dfBrgYGy0Uz7",
    "outputId": "e2757f1e-c9d3-4d1b-98d1-730b7f268532",
    "scrolled": true
   },
   "outputs": [],
   "source": [
    "human_features.load_weights('./15-Multitask-FrozenEncoder-seen_v1.h5')\n",
    "hist = human_features.fit_generator(tg, callbacks=[mc,es]\n",
    "                                    , epochs=EPOCHS\n",
    "                                    , steps_per_epoch = 1\n",
    "                                    , validation_data = vg\n",
    "                                    , validation_steps = 1\n",
    "                                    , verbose = 3 \n",
    "                                   )"
   ]
  },
  {
   "cell_type": "markdown",
   "metadata": {
    "colab_type": "text",
    "id": "D01Dk6kZrN4W"
   },
   "source": [
    "Changed based on the .min value printed. Mohammad had used around 5.7 based on the 500000 epochs he ran."
   ]
  },
  {
   "cell_type": "code",
   "execution_count": null,
   "metadata": {
    "colab": {
     "base_uri": "https://localhost:8080/",
     "height": 6498
    },
    "colab_type": "code",
    "id": "WmlH0g0S0U0K",
    "outputId": "f51c9f07-056a-4976-f6a8-7c4acd577c49",
    "scrolled": true
   },
   "outputs": [],
   "source": [
    "df_hist = pd.DataFrame(hist.history)\n",
    "df_hist.plot(subplots=True, figsize=(15,100))\n",
    "print(df_hist['val_loss'].min())\n",
    "df_hist[df_hist['val_loss']<13]  ## Changed"
   ]
  },
  {
   "cell_type": "code",
   "execution_count": null,
   "metadata": {
    "colab": {
     "base_uri": "https://localhost:8080/",
     "height": 14460
    },
    "colab_type": "code",
    "id": "WKwQCb440U0Q",
    "outputId": "85adbc62-db57-4745-b641-15d69c828145"
   },
   "outputs": [],
   "source": [
    "# human_features.load_weights('human_features_weights_v2.h5')\n",
    "human_features.load_weights('./15-Multitask-FrozenEncoder-seen_v1.h5')\n",
    "vx,vo=next(vg)\n",
    "# print(len(vo))\n",
    "fig = plt.figure(figsize=(80,200))\n",
    "fig.subplots_adjust(left=0, right=1, bottom=0, top=1, hspace=1.51, wspace=0.05)\n",
    "for i in range(64):\n",
    "#     print(i, '\\nPredicted:')\n",
    "    \n",
    "    real=''\n",
    "    for f in range(15):\n",
    "#         print(vo[i][f])\n",
    "        real+=str(np.argmax(vo[f][i])+1)+','\n",
    "    \n",
    "    f_probs = human_features.predict(np.expand_dims(vx[i],0))\n",
    "#     print(f_probs)\n",
    "    pred=''\n",
    "    for prob in f_probs:\n",
    "#         print(prob)\n",
    "        pred+=str(np.argmax(prob[0])+1)+','\n",
    "    \n",
    "    ax = fig.add_subplot(64, 1, i + 1, xticks=[], yticks=[])\n",
    "    ax.imshow(vx[i].reshape((64,64)))\n",
    "    ax.set_title('real:'+real+'\\n pred:'+pred)\n",
    "#     print('\\n----------')\n",
    "#     print('True:')\n",
    "#     for op in o:\n",
    "#         print(np.argmax(op[i]),end=',')\n",
    "        \n",
    "#     print('\\n++++++',i,'++++++')"
   ]
  },
  {
   "cell_type": "code",
   "execution_count": null,
   "metadata": {
    "colab": {
     "base_uri": "https://localhost:8080/",
     "height": 34
    },
    "colab_type": "code",
    "id": "Hw7i-HvWohdj",
    "outputId": "5d7de158-9713-45b2-a781-e29f5f004294"
   },
   "outputs": [],
   "source": [
    "df_hist.shape"
   ]
  },
  {
   "cell_type": "markdown",
   "metadata": {
    "colab_type": "text",
    "id": "Gb9BvCJLsB9s"
   },
   "source": [
    "Changing below valu for the sake of checking as we are getting an error of index out of bounds"
   ]
  },
  {
   "cell_type": "code",
   "execution_count": null,
   "metadata": {
    "colab": {
     "base_uri": "https://localhost:8080/",
     "height": 286
    },
    "colab_type": "code",
    "id": "y6-c5EIj0U0U",
    "outputId": "7dfb4912-f330-4264-866c-f9b62fe2074c",
    "scrolled": true
   },
   "outputs": [],
   "source": [
    "# print(df_hist.columns)\n",
    "total = 0\n",
    "for i in range(1,16):\n",
    "    print(df_hist.iloc[3]['val_out_feature_{0}_acc'.format(i)].max())\n",
    "    total+=df_hist.iloc[3]['val_out_feature_{0}_acc'.format(i)]\n",
    "print('total_acc:',total/15)\n",
    "# print(np.mean([df_hist['val_out_feature_1_acc'].max(), df_hist['val_out_feature_2_acc'].max(),\n",
    "#        df_hist['val_out_feature_3_acc'].max(), df_hist['val_out_feature_4_acc'].max(),\n",
    "#        df_hist['val_out_feature_5_acc'].max(), df_hist['val_out_feature_6_acc'].max(),\n",
    "#        df_hist['val_out_feature_7_acc'].max(), df_hist['val_out_feature_8_acc'].max()]))\n",
    "# df_hist[df_hist['val_acc']>10.2]"
   ]
  },
  {
   "cell_type": "code",
   "execution_count": null,
   "metadata": {
    "colab": {
     "base_uri": "https://localhost:8080/",
     "height": 135
    },
    "colab_type": "code",
    "id": "Qgi4HJTt0U0b",
    "outputId": "47119250-0a62-4d58-8d28-9d005f41143b"
   },
   "outputs": [],
   "source": [
    "fig = plt.figure(figsize=(30,30))\n",
    "fig.subplots_adjust(left=0, right=1, bottom=0, top=1, hspace=0.05, wspace=0.05)\n",
    "for i in range(30):\n",
    "    ax = fig.add_subplot(1, 30, i + 1, xticks=[], yticks=[])\n",
    "    ax.imshow(inputs[64-30:64][i].reshape((64,64)))\n",
    "    ax.set_title(i+34)"
   ]
  },
  {
   "cell_type": "code",
   "execution_count": null,
   "metadata": {
    "colab": {
     "base_uri": "https://localhost:8080/",
     "height": 286
    },
    "colab_type": "code",
    "id": "c9Axm6B40U0j",
    "outputId": "44fceeae-d4b9-47c2-f61c-0f24853a0c06",
    "scrolled": true
   },
   "outputs": [],
   "source": [
    "csv_data.var()"
   ]
  },
  {
   "cell_type": "markdown",
   "metadata": {
    "colab_type": "text",
    "id": "GQXt1ROT0U0o"
   },
   "source": [
    "# Evaluation"
   ]
  },
  {
   "cell_type": "code",
   "execution_count": null,
   "metadata": {
    "colab": {},
    "colab_type": "code",
    "id": "t0gJ88sI0U0y",
    "scrolled": true
   },
   "outputs": [],
   "source": [
    "test_g = datagen(len(val_images),val_path,val_images, vshift = (-10,10), vis=True)\n",
    "testx,testy = next(test_g)"
   ]
  },
  {
   "cell_type": "code",
   "execution_count": null,
   "metadata": {
    "colab": {
     "base_uri": "https://localhost:8080/",
     "height": 34
    },
    "colab_type": "code",
    "id": "lpeRz6yexi9D",
    "outputId": "0f973d4f-441c-4caa-8f4e-42b329a8f7c0"
   },
   "outputs": [],
   "source": [
    "testx.shape"
   ]
  },
  {
   "cell_type": "code",
   "execution_count": null,
   "metadata": {
    "colab": {},
    "colab_type": "code",
    "id": "iismDp520U0u"
   },
   "outputs": [],
   "source": [
    "pred_flat = []\n",
    "for i in range(1,len(feature_lengths)+1):\n",
    "    pred_flat.append(human_features.get_layer('dense_layer_'+str(i)).output)\n",
    "human_features_eval = Model(inputs=human_features.input, outputs=pred_flat)\n",
    "human_features_encoder = Model(human_features.input,human_features.get_layer('encoded').output)"
   ]
  },
  {
   "cell_type": "code",
   "execution_count": null,
   "metadata": {
    "colab": {},
    "colab_type": "code",
    "id": "2awv5ZKc0U03"
   },
   "outputs": [],
   "source": [
    "feature_wise_pred_y=human_features_eval.predict(testx)\n",
    "latent_pred_y=human_features_encoder.predict(testx)"
   ]
  },
  {
   "cell_type": "code",
   "execution_count": null,
   "metadata": {
    "colab": {},
    "colab_type": "code",
    "id": "Rm5mRJGM0U09"
   },
   "outputs": [],
   "source": [
    "feature_wise_pred_y=np.array(feature_wise_pred_y)\n",
    "latent_pred_y=np.array(latent_pred_y).reshape((-1,512))"
   ]
  },
  {
   "cell_type": "code",
   "execution_count": null,
   "metadata": {
    "colab": {
     "base_uri": "https://localhost:8080/",
     "height": 34
    },
    "colab_type": "code",
    "id": "pmsCgR1H0U1C",
    "outputId": "e4ed7be9-d0b7-4cff-d5e8-0f75c842c61b"
   },
   "outputs": [],
   "source": [
    "latent_pred_y.shape,feature_wise_pred_y.shape"
   ]
  },
  {
   "cell_type": "code",
   "execution_count": null,
   "metadata": {
    "colab": {
     "base_uri": "https://localhost:8080/",
     "height": 343
    },
    "colab_type": "code",
    "id": "hvsaYQZu0U1H",
    "outputId": "a0d3b4d3-698f-4785-fd45-c9bf50132e41"
   },
   "outputs": [],
   "source": [
    "ids = testy[0].reshape(-1,1)\n",
    "imagenames = testy[1].reshape(-1,1)\n",
    "data=[]\n",
    "for i in range(len(testx)):\n",
    "    data.append([ids[i][0],imagenames[i][0],latent_pred_y[i]])\n",
    "df_data = pd.DataFrame(data=data, columns=['identity','imagename','latent'])\n",
    "# df_outs['ids'] = ids\n",
    "# df_outs['preds'] = preds \n",
    "df_data=df_data.sort_values(by='identity').reset_index()\n",
    "df_data.head(10)"
   ]
  },
  {
   "cell_type": "code",
   "execution_count": null,
   "metadata": {
    "colab": {
     "base_uri": "https://localhost:8080/",
     "height": 274
    },
    "colab_type": "code",
    "id": "PDWRQwpUw8D_",
    "outputId": "313a4b21-4e69-4c4e-dd10-7342e5764eed"
   },
   "outputs": [],
   "source": [
    "cos_dist_out.head()"
   ]
  },
  {
   "cell_type": "code",
   "execution_count": null,
   "metadata": {
    "colab": {},
    "colab_type": "code",
    "id": "tWr3CUX10U0q"
   },
   "outputs": [],
   "source": [
    "from sklearn.metrics.pairwise import cosine_similarity\n",
    "cos_dist_out = pd.DataFrame(cosine_similarity(list(df_data['latent'].values)), index = df_data['identity'], columns = df_data['identity'])"
   ]
  },
  {
   "cell_type": "code",
   "execution_count": null,
   "metadata": {
    "colab": {
     "base_uri": "https://localhost:8080/",
     "height": 168
    },
    "colab_type": "code",
    "id": "9XcVyvA965bE",
    "outputId": "a40c6321-978b-41f0-f7e2-c50a99003be6"
   },
   "outputs": [],
   "source": [
    "thresholds = [0.7,0.8,0.95]\n",
    "for th in thresholds:\n",
    "#         th = 0.6\n",
    "    t_p=0\n",
    "    f_p=0\n",
    "    f_n=0\n",
    "    t_n=0\n",
    "    for i in range(cos_dist_out.shape[0]):\n",
    "        for j in range(cos_dist_out.shape[0]):\n",
    "            if(cos_dist_out.index[i]==cos_dist_out.columns.values[j] and cos_dist_out.iloc[i,j]>th):\n",
    "                t_p+=1\n",
    "            elif(cos_dist_out.index[i]!=cos_dist_out.columns.values[j] and cos_dist_out.iloc[i,j]<th):\n",
    "                t_n+=1\n",
    "            elif(cos_dist_out.index[i]!=cos_dist_out.columns.values[j] and cos_dist_out.iloc[i,j]>th):\n",
    "                f_p+=1\n",
    "            else:\n",
    "                f_n+=1\n",
    "#         print(f_p)\n",
    "    precision = t_p / (t_p + f_p)\n",
    "    recall = t_p / (t_p + f_n)  \n",
    "    print('precision for threshold of '+ str(th) + ' is: '+ str(precision))\n",
    "    print('recall for threshold of ' + str(th) + ' is: ' + str(recall))\n",
    "    total=np.sum((t_p,t_n,f_p,f_n))\n",
    "    accuracy=(t_p+t_n)/total\n",
    "    print('accuracy',accuracy)"
   ]
  },
  {
   "cell_type": "code",
   "execution_count": null,
   "metadata": {
    "colab": {},
    "colab_type": "code",
    "id": "SsjOMSGM65Mi"
   },
   "outputs": [],
   "source": []
  },
  {
   "cell_type": "code",
   "execution_count": null,
   "metadata": {
    "colab": {},
    "colab_type": "code",
    "id": "XUWINrb90U1p"
   },
   "outputs": [],
   "source": [
    "feat_pred = feature_wise_pred_y\n",
    "feat_pred.shape"
   ]
  },
  {
   "cell_type": "code",
   "execution_count": null,
   "metadata": {},
   "outputs": [],
   "source": []
  }
 ],
 "metadata": {
  "accelerator": "GPU",
  "colab": {
   "collapsed_sections": [],
   "name": "Multitask-FrozenEncoder-seen.ipynb",
   "provenance": [],
   "version": "0.3.2"
  },
  "kernelspec": {
   "display_name": "Python 3",
   "language": "python",
   "name": "python3"
  },
  "language_info": {
   "codemirror_mode": {
    "name": "ipython",
    "version": 3
   },
   "file_extension": ".py",
   "mimetype": "text/x-python",
   "name": "python",
   "nbconvert_exporter": "python",
   "pygments_lexer": "ipython3",
   "version": "3.6.5"
  }
 },
 "nbformat": 4,
 "nbformat_minor": 1
}
